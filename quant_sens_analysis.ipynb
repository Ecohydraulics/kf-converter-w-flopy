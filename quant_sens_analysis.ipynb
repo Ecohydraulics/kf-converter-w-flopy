{
 "cells": [
  {
   "cell_type": "markdown",
   "metadata": {},
   "source": [
    "# Uncertainty Quantification stemming from the porosity on the hydraulic conductivity "
   ]
  },
  {
   "cell_type": "code",
   "execution_count": 50,
   "metadata": {},
   "outputs": [],
   "source": [
    "from config import *\n",
    "import plotly.express as px\n",
    "import matplotlib.pyplot as plt\n",
    "from matplotlib.ticker import FormatStrFormatter\n",
    "\n",
    "%matplotlib inline"
   ]
  },
  {
   "cell_type": "code",
   "execution_count": 51,
   "metadata": {},
   "outputs": [
    {
     "data": {
      "text/html": [
       "<div>\n",
       "<style scoped>\n",
       "    .dataframe tbody tr th:only-of-type {\n",
       "        vertical-align: middle;\n",
       "    }\n",
       "\n",
       "    .dataframe tbody tr th {\n",
       "        vertical-align: top;\n",
       "    }\n",
       "\n",
       "    .dataframe thead th {\n",
       "        text-align: right;\n",
       "    }\n",
       "</style>\n",
       "<table border=\"1\" class=\"dataframe\">\n",
       "  <thead>\n",
       "    <tr style=\"text-align: right;\">\n",
       "      <th></th>\n",
       "      <th>depth</th>\n",
       "      <th>Mean Grain Size dm [mm]</th>\n",
       "      <th>Carling and Reader (1982) [Porosity]</th>\n",
       "      <th>Wu and Wang (2006) [Porosity]</th>\n",
       "      <th>Wooster et al. (2008) [Porosity]</th>\n",
       "      <th>Frings et al. (2011)  [Porosity]</th>\n",
       "      <th>sample</th>\n",
       "      <th>Carling and Reader (1982) [Estimated kf]</th>\n",
       "      <th>Wu and Wang (2006) [Estimated kf]</th>\n",
       "      <th>Wooster et al. (2008) [Estimated kf]</th>\n",
       "      <th>Frings et al. (2011)  [Estimated kf]</th>\n",
       "    </tr>\n",
       "  </thead>\n",
       "  <tbody>\n",
       "    <tr>\n",
       "      <th>0</th>\n",
       "      <td>0.12</td>\n",
       "      <td>15.145261</td>\n",
       "      <td>0.256490</td>\n",
       "      <td>0.260446</td>\n",
       "      <td>0.207369</td>\n",
       "      <td>0.209531</td>\n",
       "      <td>Ref before</td>\n",
       "      <td>0.000251</td>\n",
       "      <td>0.000235</td>\n",
       "      <td>0.000235</td>\n",
       "      <td>0.000234</td>\n",
       "    </tr>\n",
       "    <tr>\n",
       "      <th>1</th>\n",
       "      <td>0.15</td>\n",
       "      <td>15.145261</td>\n",
       "      <td>0.256490</td>\n",
       "      <td>0.260446</td>\n",
       "      <td>0.207369</td>\n",
       "      <td>0.209531</td>\n",
       "      <td>Ref before</td>\n",
       "      <td>0.000214</td>\n",
       "      <td>0.000214</td>\n",
       "      <td>0.000214</td>\n",
       "      <td>0.000214</td>\n",
       "    </tr>\n",
       "    <tr>\n",
       "      <th>2</th>\n",
       "      <td>0.18</td>\n",
       "      <td>15.145261</td>\n",
       "      <td>0.256490</td>\n",
       "      <td>0.260446</td>\n",
       "      <td>0.207369</td>\n",
       "      <td>0.209531</td>\n",
       "      <td>Ref before</td>\n",
       "      <td>0.000072</td>\n",
       "      <td>0.000072</td>\n",
       "      <td>0.000072</td>\n",
       "      <td>0.000072</td>\n",
       "    </tr>\n",
       "    <tr>\n",
       "      <th>3</th>\n",
       "      <td>0.27</td>\n",
       "      <td>15.145261</td>\n",
       "      <td>0.256490</td>\n",
       "      <td>0.260446</td>\n",
       "      <td>0.207369</td>\n",
       "      <td>0.209531</td>\n",
       "      <td>Ref before</td>\n",
       "      <td>0.000002</td>\n",
       "      <td>0.000002</td>\n",
       "      <td>0.000002</td>\n",
       "      <td>0.000002</td>\n",
       "    </tr>\n",
       "    <tr>\n",
       "      <th>4</th>\n",
       "      <td>0.12</td>\n",
       "      <td>17.183771</td>\n",
       "      <td>0.252408</td>\n",
       "      <td>0.258609</td>\n",
       "      <td>0.197578</td>\n",
       "      <td>0.206760</td>\n",
       "      <td>Ref after</td>\n",
       "      <td>0.013500</td>\n",
       "      <td>0.011700</td>\n",
       "      <td>0.013500</td>\n",
       "      <td>0.014500</td>\n",
       "    </tr>\n",
       "  </tbody>\n",
       "</table>\n",
       "</div>"
      ],
      "text/plain": [
       "   depth  Mean Grain Size dm [mm]  Carling and Reader (1982) [Porosity]  \\\n",
       "0   0.12                15.145261                              0.256490   \n",
       "1   0.15                15.145261                              0.256490   \n",
       "2   0.18                15.145261                              0.256490   \n",
       "3   0.27                15.145261                              0.256490   \n",
       "4   0.12                17.183771                              0.252408   \n",
       "\n",
       "   Wu and Wang (2006) [Porosity]  Wooster et al. (2008) [Porosity]  \\\n",
       "0                       0.260446                          0.207369   \n",
       "1                       0.260446                          0.207369   \n",
       "2                       0.260446                          0.207369   \n",
       "3                       0.260446                          0.207369   \n",
       "4                       0.258609                          0.197578   \n",
       "\n",
       "   Frings et al. (2011)  [Porosity]      sample  \\\n",
       "0                          0.209531  Ref before   \n",
       "1                          0.209531  Ref before   \n",
       "2                          0.209531  Ref before   \n",
       "3                          0.209531  Ref before   \n",
       "4                          0.206760   Ref after   \n",
       "\n",
       "   Carling and Reader (1982) [Estimated kf]  \\\n",
       "0                                  0.000251   \n",
       "1                                  0.000214   \n",
       "2                                  0.000072   \n",
       "3                                  0.000002   \n",
       "4                                  0.013500   \n",
       "\n",
       "   Wu and Wang (2006) [Estimated kf]  Wooster et al. (2008) [Estimated kf]  \\\n",
       "0                           0.000235                              0.000235   \n",
       "1                           0.000214                              0.000214   \n",
       "2                           0.000072                              0.000072   \n",
       "3                           0.000002                              0.000002   \n",
       "4                           0.011700                              0.013500   \n",
       "\n",
       "   Frings et al. (2011)  [Estimated kf]  \n",
       "0                              0.000234  \n",
       "1                              0.000214  \n",
       "2                              0.000072  \n",
       "3                              0.000002  \n",
       "4                              0.014500  "
      ]
     },
     "execution_count": 51,
     "metadata": {},
     "output_type": "execute_result"
    }
   ],
   "source": [
    "df_kfs = pd.read_csv('computed_kfs.csv', delimiter=',', index_col=0)\n",
    "cols_to_read = ['depth',\n",
    "               'Carling and Reader (1982) [Porosity]',\n",
    "               'Wu and Wang (2006) [Porosity]',\n",
    "               'Wooster et al. (2008) [Porosity]',\n",
    "               'Frings et al. (2011)  [Porosity]',\n",
    "               'Mean Grain Size dm [mm]']\n",
    "df_input = pd.read_excel('input-data.xlsx', usecols=cols_to_read, skiprows=[1])\n",
    "df = pd.concat([df_input, df_kfs], axis=1, join='inner')\n",
    "df.head()"
   ]
  },
  {
   "cell_type": "code",
   "execution_count": 52,
   "metadata": {
    "scrolled": true
   },
   "outputs": [
    {
     "data": {
      "text/html": [
       "<div>\n",
       "<style scoped>\n",
       "    .dataframe tbody tr th:only-of-type {\n",
       "        vertical-align: middle;\n",
       "    }\n",
       "\n",
       "    .dataframe tbody tr th {\n",
       "        vertical-align: top;\n",
       "    }\n",
       "\n",
       "    .dataframe thead th {\n",
       "        text-align: right;\n",
       "    }\n",
       "</style>\n",
       "<table border=\"1\" class=\"dataframe\">\n",
       "  <thead>\n",
       "    <tr style=\"text-align: right;\">\n",
       "      <th></th>\n",
       "      <th>depth</th>\n",
       "      <th>Mean Grain Size dm [mm]</th>\n",
       "      <th>Carling and Reader (1982) [Porosity]</th>\n",
       "      <th>Wu and Wang (2006) [Porosity]</th>\n",
       "      <th>Wooster et al. (2008) [Porosity]</th>\n",
       "      <th>Frings et al. (2011)  [Porosity]</th>\n",
       "      <th>sample</th>\n",
       "      <th>Carling and Reader (1982) [Estimated kf]</th>\n",
       "      <th>Wu and Wang (2006) [Estimated kf]</th>\n",
       "      <th>Wooster et al. (2008) [Estimated kf]</th>\n",
       "      <th>Frings et al. (2011)  [Estimated kf]</th>\n",
       "      <th>porosity_std</th>\n",
       "      <th>kf_std</th>\n",
       "    </tr>\n",
       "  </thead>\n",
       "  <tbody>\n",
       "    <tr>\n",
       "      <th>0</th>\n",
       "      <td>0.12</td>\n",
       "      <td>15.145261</td>\n",
       "      <td>0.256490</td>\n",
       "      <td>0.260446</td>\n",
       "      <td>0.207369</td>\n",
       "      <td>0.209531</td>\n",
       "      <td>Ref before</td>\n",
       "      <td>0.000251</td>\n",
       "      <td>0.000235</td>\n",
       "      <td>0.000235</td>\n",
       "      <td>0.000234</td>\n",
       "      <td>0.028937</td>\n",
       "      <td>8.180261e-06</td>\n",
       "    </tr>\n",
       "    <tr>\n",
       "      <th>1</th>\n",
       "      <td>0.15</td>\n",
       "      <td>15.145261</td>\n",
       "      <td>0.256490</td>\n",
       "      <td>0.260446</td>\n",
       "      <td>0.207369</td>\n",
       "      <td>0.209531</td>\n",
       "      <td>Ref before</td>\n",
       "      <td>0.000214</td>\n",
       "      <td>0.000214</td>\n",
       "      <td>0.000214</td>\n",
       "      <td>0.000214</td>\n",
       "      <td>0.028937</td>\n",
       "      <td>0.000000e+00</td>\n",
       "    </tr>\n",
       "    <tr>\n",
       "      <th>2</th>\n",
       "      <td>0.18</td>\n",
       "      <td>15.145261</td>\n",
       "      <td>0.256490</td>\n",
       "      <td>0.260446</td>\n",
       "      <td>0.207369</td>\n",
       "      <td>0.209531</td>\n",
       "      <td>Ref before</td>\n",
       "      <td>0.000072</td>\n",
       "      <td>0.000072</td>\n",
       "      <td>0.000072</td>\n",
       "      <td>0.000072</td>\n",
       "      <td>0.028937</td>\n",
       "      <td>0.000000e+00</td>\n",
       "    </tr>\n",
       "    <tr>\n",
       "      <th>3</th>\n",
       "      <td>0.27</td>\n",
       "      <td>15.145261</td>\n",
       "      <td>0.256490</td>\n",
       "      <td>0.260446</td>\n",
       "      <td>0.207369</td>\n",
       "      <td>0.209531</td>\n",
       "      <td>Ref before</td>\n",
       "      <td>0.000002</td>\n",
       "      <td>0.000002</td>\n",
       "      <td>0.000002</td>\n",
       "      <td>0.000002</td>\n",
       "      <td>0.028937</td>\n",
       "      <td>1.150000e-07</td>\n",
       "    </tr>\n",
       "    <tr>\n",
       "      <th>4</th>\n",
       "      <td>0.12</td>\n",
       "      <td>17.183771</td>\n",
       "      <td>0.252408</td>\n",
       "      <td>0.258609</td>\n",
       "      <td>0.197578</td>\n",
       "      <td>0.206760</td>\n",
       "      <td>Ref after</td>\n",
       "      <td>0.013500</td>\n",
       "      <td>0.011700</td>\n",
       "      <td>0.013500</td>\n",
       "      <td>0.014500</td>\n",
       "      <td>0.031126</td>\n",
       "      <td>1.166190e-03</td>\n",
       "    </tr>\n",
       "  </tbody>\n",
       "</table>\n",
       "</div>"
      ],
      "text/plain": [
       "   depth  Mean Grain Size dm [mm]  Carling and Reader (1982) [Porosity]  \\\n",
       "0   0.12                15.145261                              0.256490   \n",
       "1   0.15                15.145261                              0.256490   \n",
       "2   0.18                15.145261                              0.256490   \n",
       "3   0.27                15.145261                              0.256490   \n",
       "4   0.12                17.183771                              0.252408   \n",
       "\n",
       "   Wu and Wang (2006) [Porosity]  Wooster et al. (2008) [Porosity]  \\\n",
       "0                       0.260446                          0.207369   \n",
       "1                       0.260446                          0.207369   \n",
       "2                       0.260446                          0.207369   \n",
       "3                       0.260446                          0.207369   \n",
       "4                       0.258609                          0.197578   \n",
       "\n",
       "   Frings et al. (2011)  [Porosity]      sample  \\\n",
       "0                          0.209531  Ref before   \n",
       "1                          0.209531  Ref before   \n",
       "2                          0.209531  Ref before   \n",
       "3                          0.209531  Ref before   \n",
       "4                          0.206760   Ref after   \n",
       "\n",
       "   Carling and Reader (1982) [Estimated kf]  \\\n",
       "0                                  0.000251   \n",
       "1                                  0.000214   \n",
       "2                                  0.000072   \n",
       "3                                  0.000002   \n",
       "4                                  0.013500   \n",
       "\n",
       "   Wu and Wang (2006) [Estimated kf]  Wooster et al. (2008) [Estimated kf]  \\\n",
       "0                           0.000235                              0.000235   \n",
       "1                           0.000214                              0.000214   \n",
       "2                           0.000072                              0.000072   \n",
       "3                           0.000002                              0.000002   \n",
       "4                           0.011700                              0.013500   \n",
       "\n",
       "   Frings et al. (2011)  [Estimated kf]  porosity_std        kf_std  \n",
       "0                              0.000234      0.028937  8.180261e-06  \n",
       "1                              0.000214      0.028937  0.000000e+00  \n",
       "2                              0.000072      0.028937  0.000000e+00  \n",
       "3                              0.000002      0.028937  1.150000e-07  \n",
       "4                              0.014500      0.031126  1.166190e-03  "
      ]
     },
     "execution_count": 52,
     "metadata": {},
     "output_type": "execute_result"
    }
   ],
   "source": [
    "df_porosity = df.iloc[:, 2:6]\n",
    "df_kf = df.iloc[:, 7:11]\n",
    "df['porosity_std'] = df_porosity.std(axis=1)\n",
    "df['kf_std'] = df_kf.std(axis=1)\n",
    "df.head()"
   ]
  },
  {
   "cell_type": "code",
   "execution_count": 53,
   "metadata": {},
   "outputs": [
    {
     "data": {
      "text/html": [
       "<div>\n",
       "<style scoped>\n",
       "    .dataframe tbody tr th:only-of-type {\n",
       "        vertical-align: middle;\n",
       "    }\n",
       "\n",
       "    .dataframe tbody tr th {\n",
       "        vertical-align: top;\n",
       "    }\n",
       "\n",
       "    .dataframe thead th {\n",
       "        text-align: right;\n",
       "    }\n",
       "</style>\n",
       "<table border=\"1\" class=\"dataframe\">\n",
       "  <thead>\n",
       "    <tr style=\"text-align: right;\">\n",
       "      <th></th>\n",
       "      <th>depth</th>\n",
       "      <th>Mean Grain Size dm [mm]</th>\n",
       "      <th>Carling and Reader (1982) [Porosity]</th>\n",
       "      <th>Wu and Wang (2006) [Porosity]</th>\n",
       "      <th>Wooster et al. (2008) [Porosity]</th>\n",
       "      <th>Frings et al. (2011)  [Porosity]</th>\n",
       "      <th>sample</th>\n",
       "      <th>Carling and Reader (1982) [Estimated kf]</th>\n",
       "      <th>Wu and Wang (2006) [Estimated kf]</th>\n",
       "      <th>Wooster et al. (2008) [Estimated kf]</th>\n",
       "      <th>Frings et al. (2011)  [Estimated kf]</th>\n",
       "      <th>porosity_std</th>\n",
       "      <th>kf_std</th>\n",
       "      <th>porosity_range</th>\n",
       "      <th>kf_range</th>\n",
       "    </tr>\n",
       "  </thead>\n",
       "  <tbody>\n",
       "    <tr>\n",
       "      <th>0</th>\n",
       "      <td>0.12</td>\n",
       "      <td>15.145261</td>\n",
       "      <td>0.256490</td>\n",
       "      <td>0.260446</td>\n",
       "      <td>0.207369</td>\n",
       "      <td>0.209531</td>\n",
       "      <td>Ref before</td>\n",
       "      <td>0.000251</td>\n",
       "      <td>0.000235</td>\n",
       "      <td>0.000235</td>\n",
       "      <td>0.000234</td>\n",
       "      <td>0.028937</td>\n",
       "      <td>8.180261e-06</td>\n",
       "      <td>0.053078</td>\n",
       "      <td>1.700000e-05</td>\n",
       "    </tr>\n",
       "    <tr>\n",
       "      <th>1</th>\n",
       "      <td>0.15</td>\n",
       "      <td>15.145261</td>\n",
       "      <td>0.256490</td>\n",
       "      <td>0.260446</td>\n",
       "      <td>0.207369</td>\n",
       "      <td>0.209531</td>\n",
       "      <td>Ref before</td>\n",
       "      <td>0.000214</td>\n",
       "      <td>0.000214</td>\n",
       "      <td>0.000214</td>\n",
       "      <td>0.000214</td>\n",
       "      <td>0.028937</td>\n",
       "      <td>0.000000e+00</td>\n",
       "      <td>0.053078</td>\n",
       "      <td>0.000000e+00</td>\n",
       "    </tr>\n",
       "    <tr>\n",
       "      <th>2</th>\n",
       "      <td>0.18</td>\n",
       "      <td>15.145261</td>\n",
       "      <td>0.256490</td>\n",
       "      <td>0.260446</td>\n",
       "      <td>0.207369</td>\n",
       "      <td>0.209531</td>\n",
       "      <td>Ref before</td>\n",
       "      <td>0.000072</td>\n",
       "      <td>0.000072</td>\n",
       "      <td>0.000072</td>\n",
       "      <td>0.000072</td>\n",
       "      <td>0.028937</td>\n",
       "      <td>0.000000e+00</td>\n",
       "      <td>0.053078</td>\n",
       "      <td>0.000000e+00</td>\n",
       "    </tr>\n",
       "    <tr>\n",
       "      <th>3</th>\n",
       "      <td>0.27</td>\n",
       "      <td>15.145261</td>\n",
       "      <td>0.256490</td>\n",
       "      <td>0.260446</td>\n",
       "      <td>0.207369</td>\n",
       "      <td>0.209531</td>\n",
       "      <td>Ref before</td>\n",
       "      <td>0.000002</td>\n",
       "      <td>0.000002</td>\n",
       "      <td>0.000002</td>\n",
       "      <td>0.000002</td>\n",
       "      <td>0.028937</td>\n",
       "      <td>1.150000e-07</td>\n",
       "      <td>0.053078</td>\n",
       "      <td>2.300000e-07</td>\n",
       "    </tr>\n",
       "    <tr>\n",
       "      <th>4</th>\n",
       "      <td>0.12</td>\n",
       "      <td>17.183771</td>\n",
       "      <td>0.252408</td>\n",
       "      <td>0.258609</td>\n",
       "      <td>0.197578</td>\n",
       "      <td>0.206760</td>\n",
       "      <td>Ref after</td>\n",
       "      <td>0.013500</td>\n",
       "      <td>0.011700</td>\n",
       "      <td>0.013500</td>\n",
       "      <td>0.014500</td>\n",
       "      <td>0.031126</td>\n",
       "      <td>1.166190e-03</td>\n",
       "      <td>0.061031</td>\n",
       "      <td>2.800000e-03</td>\n",
       "    </tr>\n",
       "  </tbody>\n",
       "</table>\n",
       "</div>"
      ],
      "text/plain": [
       "   depth  Mean Grain Size dm [mm]  Carling and Reader (1982) [Porosity]  \\\n",
       "0   0.12                15.145261                              0.256490   \n",
       "1   0.15                15.145261                              0.256490   \n",
       "2   0.18                15.145261                              0.256490   \n",
       "3   0.27                15.145261                              0.256490   \n",
       "4   0.12                17.183771                              0.252408   \n",
       "\n",
       "   Wu and Wang (2006) [Porosity]  Wooster et al. (2008) [Porosity]  \\\n",
       "0                       0.260446                          0.207369   \n",
       "1                       0.260446                          0.207369   \n",
       "2                       0.260446                          0.207369   \n",
       "3                       0.260446                          0.207369   \n",
       "4                       0.258609                          0.197578   \n",
       "\n",
       "   Frings et al. (2011)  [Porosity]      sample  \\\n",
       "0                          0.209531  Ref before   \n",
       "1                          0.209531  Ref before   \n",
       "2                          0.209531  Ref before   \n",
       "3                          0.209531  Ref before   \n",
       "4                          0.206760   Ref after   \n",
       "\n",
       "   Carling and Reader (1982) [Estimated kf]  \\\n",
       "0                                  0.000251   \n",
       "1                                  0.000214   \n",
       "2                                  0.000072   \n",
       "3                                  0.000002   \n",
       "4                                  0.013500   \n",
       "\n",
       "   Wu and Wang (2006) [Estimated kf]  Wooster et al. (2008) [Estimated kf]  \\\n",
       "0                           0.000235                              0.000235   \n",
       "1                           0.000214                              0.000214   \n",
       "2                           0.000072                              0.000072   \n",
       "3                           0.000002                              0.000002   \n",
       "4                           0.011700                              0.013500   \n",
       "\n",
       "   Frings et al. (2011)  [Estimated kf]  porosity_std        kf_std  \\\n",
       "0                              0.000234      0.028937  8.180261e-06   \n",
       "1                              0.000214      0.028937  0.000000e+00   \n",
       "2                              0.000072      0.028937  0.000000e+00   \n",
       "3                              0.000002      0.028937  1.150000e-07   \n",
       "4                              0.014500      0.031126  1.166190e-03   \n",
       "\n",
       "   porosity_range      kf_range  \n",
       "0        0.053078  1.700000e-05  \n",
       "1        0.053078  0.000000e+00  \n",
       "2        0.053078  0.000000e+00  \n",
       "3        0.053078  2.300000e-07  \n",
       "4        0.061031  2.800000e-03  "
      ]
     },
     "execution_count": 53,
     "metadata": {},
     "output_type": "execute_result"
    }
   ],
   "source": [
    "df['porosity_range'] = abs(df_porosity.min(axis=1) - df_porosity.max(axis=1))\n",
    "df['kf_range'] = abs(df_kf.min(axis=1) - df_kf.max(axis=1))\n",
    "df.head()"
   ]
  },
  {
   "cell_type": "code",
   "execution_count": 67,
   "metadata": {},
   "outputs": [
    {
     "data": {
      "application/vnd.plotly.v1+json": {
       "config": {
        "plotlyServerURL": "https://plot.ly"
       },
       "data": [
        {
         "hovertemplate": "sample=Ref before<br>kf_std=%{x}<br>porosity_std=%{y}<br>Wooster et al. (2008) [Estimated kf]=%{marker.size}<extra></extra>",
         "legendgroup": "Ref before",
         "marker": {
          "color": "#636efa",
          "size": [
           0.000235,
           0.000214,
           7.22e-05,
           1.74e-06
          ],
          "sizemode": "area",
          "sizeref": 3.375e-05,
          "symbol": "circle"
         },
         "mode": "markers",
         "name": "Ref before",
         "orientation": "v",
         "showlegend": true,
         "type": "scatter",
         "x": [
          8.180260794538674e-06,
          0,
          0,
          1.1500000000000006e-07
         ],
         "xaxis": "x",
         "y": [
          0.02893685283202385,
          0.02893685283202385,
          0.02893685283202385,
          0.02893685283202385
         ],
         "yaxis": "y"
        },
        {
         "hovertemplate": "sample=Ref after<br>kf_std=%{x}<br>porosity_std=%{y}<br>Wooster et al. (2008) [Estimated kf]=%{marker.size}<extra></extra>",
         "legendgroup": "Ref after",
         "marker": {
          "color": "#EF553B",
          "size": [
           0.0135,
           0.00827,
           0.00389,
           0.00233,
           0.00225,
           0.00216,
           0.00105,
           0.000889,
           0.000592
          ],
          "sizemode": "area",
          "sizeref": 3.375e-05,
          "symbol": "circle"
         },
         "mode": "markers",
         "name": "Ref after",
         "orientation": "v",
         "showlegend": true,
         "type": "scatter",
         "x": [
          0.00116619037896906,
          0.0002783732506306354,
          0.00030070749907509776,
          0.000262170428029809,
          0.00018920887928424517,
          8.679477710861026e-05,
          4.8030372335290765e-05,
          7.527283706623529e-05,
          5.8691282714442925e-05
         ],
         "xaxis": "x",
         "y": [
          0.03112609802625566,
          0.03112609802625566,
          0.03112609802625566,
          0.03112609802625566,
          0.03112609802625566,
          0.03112609802625566,
          0.03112609802625566,
          0.03112609802625566,
          0.03112609802625566
         ],
         "yaxis": "y"
        },
        {
         "hovertemplate": "sample=A-1 before<br>kf_std=%{x}<br>porosity_std=%{y}<br>Wooster et al. (2008) [Estimated kf]=%{marker.size}<extra></extra>",
         "legendgroup": "A-1 before",
         "marker": {
          "color": "#00cc96",
          "size": [
           6.04e-05,
           0.000311,
           0.000173,
           0.000136,
           2.96e-05,
           2.28e-06,
           1.89e-05
          ],
          "sizemode": "area",
          "sizeref": 3.375e-05,
          "symbol": "circle"
         },
         "mode": "markers",
         "name": "A-1 before",
         "orientation": "v",
         "showlegend": true,
         "type": "scatter",
         "x": [
          4.7236991154532e-06,
          1.1499999999999983e-05,
          0,
          9.999999999999972e-07,
          4.999999999999952e-08,
          1.166190378969061e-07,
          8.500000000000003e-07
         ],
         "xaxis": "x",
         "y": [
          0.05800247614371768,
          0.05800247614371768,
          0.05800247614371768,
          0.05800247614371768,
          0.05800247614371768,
          0.05800247614371768,
          0.05800247614371768
         ],
         "yaxis": "y"
        },
        {
         "hovertemplate": "sample=A-1 after<br>kf_std=%{x}<br>porosity_std=%{y}<br>Wooster et al. (2008) [Estimated kf]=%{marker.size}<extra></extra>",
         "legendgroup": "A-1 after",
         "marker": {
          "color": "#ab63fa",
          "size": [
           0.000721,
           0.000536,
           0.000418,
           0.000499,
           0.000448,
           0.00024,
           0.000318,
           0.000352,
           0.000272
          ],
          "sizemode": "area",
          "sizeref": 3.375e-05,
          "symbol": "circle"
         },
         "mode": "markers",
         "name": "A-1 after",
         "orientation": "v",
         "showlegend": true,
         "type": "scatter",
         "x": [
          2.45e-05,
          4.1835989291517895e-05,
          0,
          0,
          1.8000000000000004e-05,
          0,
          1.7233687939614087e-05,
          2.4540782383616043e-05,
          0
         ],
         "xaxis": "x",
         "y": [
          0.044806317969138136,
          0.044806317969138136,
          0.044806317969138136,
          0.044806317969138136,
          0.044806317969138136,
          0.044806317969138136,
          0.044806317969138136,
          0.044806317969138136,
          0.044806317969138136
         ],
         "yaxis": "y"
        },
        {
         "hovertemplate": "sample=A-2 before<br>kf_std=%{x}<br>porosity_std=%{y}<br>Wooster et al. (2008) [Estimated kf]=%{marker.size}<extra></extra>",
         "legendgroup": "A-2 before",
         "marker": {
          "color": "#FFA15A",
          "size": [
           0.000116,
           5.09e-05,
           4.52e-05,
           4.93e-05,
           3.69e-05,
           3.05e-05,
           9.48e-06,
           1.63e-05
          ],
          "sizemode": "area",
          "sizeref": 3.375e-05,
          "symbol": "circle"
         },
         "mode": "markers",
         "name": "A-2 before",
         "orientation": "v",
         "showlegend": true,
         "type": "scatter",
         "x": [
          4.716990566028306e-06,
          0,
          5.0000000000001215e-08,
          5.499999999999998e-07,
          1.499999999999999e-06,
          1.2500000000000016e-06,
          3.567893869871505e-06,
          7.499999999999996e-07
         ],
         "xaxis": "x",
         "y": [
          0.06342947075492804,
          0.06342947075492804,
          0.06342947075492804,
          0.06342947075492804,
          0.06342947075492804,
          0.06342947075492804,
          0.06342947075492804,
          0.06342947075492804
         ],
         "yaxis": "y"
        },
        {
         "hovertemplate": "sample=A-2 after<br>kf_std=%{x}<br>porosity_std=%{y}<br>Wooster et al. (2008) [Estimated kf]=%{marker.size}<extra></extra>",
         "legendgroup": "A-2 after",
         "marker": {
          "color": "#19d3f3",
          "size": [
           0.00116,
           0.000388,
           0.000111,
           8.27e-05,
           1.88e-05,
           6.69e-05,
           3.01e-05,
           7.73e-06
          ],
          "sizemode": "area",
          "sizeref": 3.375e-05,
          "symbol": "circle"
         },
         "mode": "markers",
         "name": "A-2 after",
         "orientation": "v",
         "showlegend": true,
         "type": "scatter",
         "x": [
          4.500000000000001e-05,
          6.00000000000001e-06,
          8.05e-06,
          6.640783086353598e-06,
          2.215663933602446e-06,
          0,
          2.1500000000000014e-06,
          5.159053530768349e-07
         ],
         "xaxis": "x",
         "y": [
          0.05594907216428909,
          0.05594907216428909,
          0.05594907216428909,
          0.05594907216428909,
          0.05594907216428909,
          0.05594907216428909,
          0.05594907216428909,
          0.05594907216428909
         ],
         "yaxis": "y"
        },
        {
         "hovertemplate": "sample=B-1 before<br>kf_std=%{x}<br>porosity_std=%{y}<br>Wooster et al. (2008) [Estimated kf]=%{marker.size}<extra></extra>",
         "legendgroup": "B-1 before",
         "marker": {
          "color": "#FF6692",
          "size": [
           0.00401,
           0.00197,
           0.00385,
           0.00238,
           0.00109,
           0.00208,
           0.00181,
           0.000659
          ],
          "sizemode": "area",
          "sizeref": 3.375e-05,
          "symbol": "circle"
         },
         "mode": "markers",
         "name": "B-1 before",
         "orientation": "v",
         "showlegend": true,
         "type": "scatter",
         "x": [
          0,
          0.00012419742348374229,
          0.00013999999999999993,
          0,
          7.438637868140465e-05,
          5.000000000000013e-06,
          9.03234926989282e-05,
          2.9670411748631568e-05
         ],
         "xaxis": "x",
         "y": [
          0.021905135961535746,
          0.021905135961535746,
          0.021905135961535746,
          0.021905135961535746,
          0.021905135961535746,
          0.021905135961535746,
          0.021905135961535746,
          0.021905135961535746
         ],
         "yaxis": "y"
        },
        {
         "hovertemplate": "sample=B-1 after<br>kf_std=%{x}<br>porosity_std=%{y}<br>Wooster et al. (2008) [Estimated kf]=%{marker.size}<extra></extra>",
         "legendgroup": "B-1 after",
         "marker": {
          "color": "#B6E880",
          "size": [
           0.00564,
           0.00667,
           0.00498,
           0.00325,
           0.00296,
           0.00181,
           0.000989,
           0.000609
          ],
          "sizemode": "area",
          "sizeref": 3.375e-05,
          "symbol": "circle"
         },
         "mode": "markers",
         "name": "B-1 after",
         "orientation": "v",
         "showlegend": true,
         "type": "scatter",
         "x": [
          0.0004965547972446411,
          0.0005756952318718642,
          0.00017339742404853285,
          0.0001767295485574873,
          0.0001241974234837422,
          0,
          0.00010145935146648633,
          6.999999999999953e-06
         ],
         "xaxis": "x",
         "y": [
          0.019351714607868897,
          0.019351714607868897,
          0.019351714607868897,
          0.019351714607868897,
          0.019351714607868897,
          0.019351714607868897,
          0.019351714607868897,
          0.019351714607868897
         ],
         "yaxis": "y"
        },
        {
         "hovertemplate": "sample=B-2 before<br>kf_std=%{x}<br>porosity_std=%{y}<br>Wooster et al. (2008) [Estimated kf]=%{marker.size}<extra></extra>",
         "legendgroup": "B-2 before",
         "marker": {
          "color": "#FF97FF",
          "size": [
           0.0102,
           0.00957,
           0.00769,
           0.0044,
           0.00423,
           0.00492,
           0.00336,
           0.00366,
           0.00104,
           0.000975
          ],
          "sizemode": "area",
          "sizeref": 3.375e-05,
          "symbol": "circle"
         },
         "mode": "markers",
         "name": "B-2 before",
         "orientation": "v",
         "showlegend": true,
         "type": "scatter",
         "x": [
          0,
          0.0006257994886543132,
          0.0006560995859369723,
          0.00026837473800639275,
          0.00014999999999999996,
          0.00019499999999999983,
          0.00030901725949640193,
          0,
          0,
          5.991313156006235e-05
         ],
         "xaxis": "x",
         "y": [
          0.025143276212933812,
          0.025143276212933812,
          0.025143276212933812,
          0.025143276212933812,
          0.025143276212933812,
          0.025143276212933812,
          0.025143276212933812,
          0.025143276212933812,
          0.025143276212933812,
          0.025143276212933812
         ],
         "yaxis": "y"
        },
        {
         "hovertemplate": "sample=B-2 after<br>kf_std=%{x}<br>porosity_std=%{y}<br>Wooster et al. (2008) [Estimated kf]=%{marker.size}<extra></extra>",
         "legendgroup": "B-2 after",
         "marker": {
          "color": "#FECB52",
          "size": [
           0.00296,
           0.00411,
           0.00535,
           0.00503,
           0.004,
           0.00329,
           0.00264,
           0.00201,
           0.00171,
           0.000916
          ],
          "sizemode": "area",
          "sizeref": 3.375e-05,
          "symbol": "circle"
         },
         "mode": "markers",
         "name": "B-2 after",
         "orientation": "v",
         "showlegend": true,
         "type": "scatter",
         "x": [
          0.0001087428158546578,
          5.000000000000229e-06,
          0.0005051979809935904,
          5.773502691896524e-06,
          6.075908711186064e-05,
          0.0003402327634625057,
          0.0002618364629560471,
          9.500000000000003e-05,
          1.4999999999999933e-05,
          5.1668817159546735e-05
         ],
         "xaxis": "x",
         "y": [
          0.026706798277865026,
          0.026706798277865026,
          0.026706798277865026,
          0.026706798277865026,
          0.026706798277865026,
          0.026706798277865026,
          0.026706798277865026,
          0.026706798277865026,
          0.026706798277865026,
          0.026706798277865026
         ],
         "yaxis": "y"
        }
       ],
       "layout": {
        "legend": {
         "itemsizing": "constant",
         "title": {
          "text": "sample"
         },
         "tracegroupgap": 0
        },
        "margin": {
         "t": 60
        },
        "template": {
         "data": {
          "bar": [
           {
            "error_x": {
             "color": "#2a3f5f"
            },
            "error_y": {
             "color": "#2a3f5f"
            },
            "marker": {
             "line": {
              "color": "#E5ECF6",
              "width": 0.5
             },
             "pattern": {
              "fillmode": "overlay",
              "size": 10,
              "solidity": 0.2
             }
            },
            "type": "bar"
           }
          ],
          "barpolar": [
           {
            "marker": {
             "line": {
              "color": "#E5ECF6",
              "width": 0.5
             },
             "pattern": {
              "fillmode": "overlay",
              "size": 10,
              "solidity": 0.2
             }
            },
            "type": "barpolar"
           }
          ],
          "carpet": [
           {
            "aaxis": {
             "endlinecolor": "#2a3f5f",
             "gridcolor": "white",
             "linecolor": "white",
             "minorgridcolor": "white",
             "startlinecolor": "#2a3f5f"
            },
            "baxis": {
             "endlinecolor": "#2a3f5f",
             "gridcolor": "white",
             "linecolor": "white",
             "minorgridcolor": "white",
             "startlinecolor": "#2a3f5f"
            },
            "type": "carpet"
           }
          ],
          "choropleth": [
           {
            "colorbar": {
             "outlinewidth": 0,
             "ticks": ""
            },
            "type": "choropleth"
           }
          ],
          "contour": [
           {
            "colorbar": {
             "outlinewidth": 0,
             "ticks": ""
            },
            "colorscale": [
             [
              0,
              "#0d0887"
             ],
             [
              0.1111111111111111,
              "#46039f"
             ],
             [
              0.2222222222222222,
              "#7201a8"
             ],
             [
              0.3333333333333333,
              "#9c179e"
             ],
             [
              0.4444444444444444,
              "#bd3786"
             ],
             [
              0.5555555555555556,
              "#d8576b"
             ],
             [
              0.6666666666666666,
              "#ed7953"
             ],
             [
              0.7777777777777778,
              "#fb9f3a"
             ],
             [
              0.8888888888888888,
              "#fdca26"
             ],
             [
              1,
              "#f0f921"
             ]
            ],
            "type": "contour"
           }
          ],
          "contourcarpet": [
           {
            "colorbar": {
             "outlinewidth": 0,
             "ticks": ""
            },
            "type": "contourcarpet"
           }
          ],
          "heatmap": [
           {
            "colorbar": {
             "outlinewidth": 0,
             "ticks": ""
            },
            "colorscale": [
             [
              0,
              "#0d0887"
             ],
             [
              0.1111111111111111,
              "#46039f"
             ],
             [
              0.2222222222222222,
              "#7201a8"
             ],
             [
              0.3333333333333333,
              "#9c179e"
             ],
             [
              0.4444444444444444,
              "#bd3786"
             ],
             [
              0.5555555555555556,
              "#d8576b"
             ],
             [
              0.6666666666666666,
              "#ed7953"
             ],
             [
              0.7777777777777778,
              "#fb9f3a"
             ],
             [
              0.8888888888888888,
              "#fdca26"
             ],
             [
              1,
              "#f0f921"
             ]
            ],
            "type": "heatmap"
           }
          ],
          "heatmapgl": [
           {
            "colorbar": {
             "outlinewidth": 0,
             "ticks": ""
            },
            "colorscale": [
             [
              0,
              "#0d0887"
             ],
             [
              0.1111111111111111,
              "#46039f"
             ],
             [
              0.2222222222222222,
              "#7201a8"
             ],
             [
              0.3333333333333333,
              "#9c179e"
             ],
             [
              0.4444444444444444,
              "#bd3786"
             ],
             [
              0.5555555555555556,
              "#d8576b"
             ],
             [
              0.6666666666666666,
              "#ed7953"
             ],
             [
              0.7777777777777778,
              "#fb9f3a"
             ],
             [
              0.8888888888888888,
              "#fdca26"
             ],
             [
              1,
              "#f0f921"
             ]
            ],
            "type": "heatmapgl"
           }
          ],
          "histogram": [
           {
            "marker": {
             "pattern": {
              "fillmode": "overlay",
              "size": 10,
              "solidity": 0.2
             }
            },
            "type": "histogram"
           }
          ],
          "histogram2d": [
           {
            "colorbar": {
             "outlinewidth": 0,
             "ticks": ""
            },
            "colorscale": [
             [
              0,
              "#0d0887"
             ],
             [
              0.1111111111111111,
              "#46039f"
             ],
             [
              0.2222222222222222,
              "#7201a8"
             ],
             [
              0.3333333333333333,
              "#9c179e"
             ],
             [
              0.4444444444444444,
              "#bd3786"
             ],
             [
              0.5555555555555556,
              "#d8576b"
             ],
             [
              0.6666666666666666,
              "#ed7953"
             ],
             [
              0.7777777777777778,
              "#fb9f3a"
             ],
             [
              0.8888888888888888,
              "#fdca26"
             ],
             [
              1,
              "#f0f921"
             ]
            ],
            "type": "histogram2d"
           }
          ],
          "histogram2dcontour": [
           {
            "colorbar": {
             "outlinewidth": 0,
             "ticks": ""
            },
            "colorscale": [
             [
              0,
              "#0d0887"
             ],
             [
              0.1111111111111111,
              "#46039f"
             ],
             [
              0.2222222222222222,
              "#7201a8"
             ],
             [
              0.3333333333333333,
              "#9c179e"
             ],
             [
              0.4444444444444444,
              "#bd3786"
             ],
             [
              0.5555555555555556,
              "#d8576b"
             ],
             [
              0.6666666666666666,
              "#ed7953"
             ],
             [
              0.7777777777777778,
              "#fb9f3a"
             ],
             [
              0.8888888888888888,
              "#fdca26"
             ],
             [
              1,
              "#f0f921"
             ]
            ],
            "type": "histogram2dcontour"
           }
          ],
          "mesh3d": [
           {
            "colorbar": {
             "outlinewidth": 0,
             "ticks": ""
            },
            "type": "mesh3d"
           }
          ],
          "parcoords": [
           {
            "line": {
             "colorbar": {
              "outlinewidth": 0,
              "ticks": ""
             }
            },
            "type": "parcoords"
           }
          ],
          "pie": [
           {
            "automargin": true,
            "type": "pie"
           }
          ],
          "scatter": [
           {
            "marker": {
             "colorbar": {
              "outlinewidth": 0,
              "ticks": ""
             }
            },
            "type": "scatter"
           }
          ],
          "scatter3d": [
           {
            "line": {
             "colorbar": {
              "outlinewidth": 0,
              "ticks": ""
             }
            },
            "marker": {
             "colorbar": {
              "outlinewidth": 0,
              "ticks": ""
             }
            },
            "type": "scatter3d"
           }
          ],
          "scattercarpet": [
           {
            "marker": {
             "colorbar": {
              "outlinewidth": 0,
              "ticks": ""
             }
            },
            "type": "scattercarpet"
           }
          ],
          "scattergeo": [
           {
            "marker": {
             "colorbar": {
              "outlinewidth": 0,
              "ticks": ""
             }
            },
            "type": "scattergeo"
           }
          ],
          "scattergl": [
           {
            "marker": {
             "colorbar": {
              "outlinewidth": 0,
              "ticks": ""
             }
            },
            "type": "scattergl"
           }
          ],
          "scattermapbox": [
           {
            "marker": {
             "colorbar": {
              "outlinewidth": 0,
              "ticks": ""
             }
            },
            "type": "scattermapbox"
           }
          ],
          "scatterpolar": [
           {
            "marker": {
             "colorbar": {
              "outlinewidth": 0,
              "ticks": ""
             }
            },
            "type": "scatterpolar"
           }
          ],
          "scatterpolargl": [
           {
            "marker": {
             "colorbar": {
              "outlinewidth": 0,
              "ticks": ""
             }
            },
            "type": "scatterpolargl"
           }
          ],
          "scatterternary": [
           {
            "marker": {
             "colorbar": {
              "outlinewidth": 0,
              "ticks": ""
             }
            },
            "type": "scatterternary"
           }
          ],
          "surface": [
           {
            "colorbar": {
             "outlinewidth": 0,
             "ticks": ""
            },
            "colorscale": [
             [
              0,
              "#0d0887"
             ],
             [
              0.1111111111111111,
              "#46039f"
             ],
             [
              0.2222222222222222,
              "#7201a8"
             ],
             [
              0.3333333333333333,
              "#9c179e"
             ],
             [
              0.4444444444444444,
              "#bd3786"
             ],
             [
              0.5555555555555556,
              "#d8576b"
             ],
             [
              0.6666666666666666,
              "#ed7953"
             ],
             [
              0.7777777777777778,
              "#fb9f3a"
             ],
             [
              0.8888888888888888,
              "#fdca26"
             ],
             [
              1,
              "#f0f921"
             ]
            ],
            "type": "surface"
           }
          ],
          "table": [
           {
            "cells": {
             "fill": {
              "color": "#EBF0F8"
             },
             "line": {
              "color": "white"
             }
            },
            "header": {
             "fill": {
              "color": "#C8D4E3"
             },
             "line": {
              "color": "white"
             }
            },
            "type": "table"
           }
          ]
         },
         "layout": {
          "annotationdefaults": {
           "arrowcolor": "#2a3f5f",
           "arrowhead": 0,
           "arrowwidth": 1
          },
          "autotypenumbers": "strict",
          "coloraxis": {
           "colorbar": {
            "outlinewidth": 0,
            "ticks": ""
           }
          },
          "colorscale": {
           "diverging": [
            [
             0,
             "#8e0152"
            ],
            [
             0.1,
             "#c51b7d"
            ],
            [
             0.2,
             "#de77ae"
            ],
            [
             0.3,
             "#f1b6da"
            ],
            [
             0.4,
             "#fde0ef"
            ],
            [
             0.5,
             "#f7f7f7"
            ],
            [
             0.6,
             "#e6f5d0"
            ],
            [
             0.7,
             "#b8e186"
            ],
            [
             0.8,
             "#7fbc41"
            ],
            [
             0.9,
             "#4d9221"
            ],
            [
             1,
             "#276419"
            ]
           ],
           "sequential": [
            [
             0,
             "#0d0887"
            ],
            [
             0.1111111111111111,
             "#46039f"
            ],
            [
             0.2222222222222222,
             "#7201a8"
            ],
            [
             0.3333333333333333,
             "#9c179e"
            ],
            [
             0.4444444444444444,
             "#bd3786"
            ],
            [
             0.5555555555555556,
             "#d8576b"
            ],
            [
             0.6666666666666666,
             "#ed7953"
            ],
            [
             0.7777777777777778,
             "#fb9f3a"
            ],
            [
             0.8888888888888888,
             "#fdca26"
            ],
            [
             1,
             "#f0f921"
            ]
           ],
           "sequentialminus": [
            [
             0,
             "#0d0887"
            ],
            [
             0.1111111111111111,
             "#46039f"
            ],
            [
             0.2222222222222222,
             "#7201a8"
            ],
            [
             0.3333333333333333,
             "#9c179e"
            ],
            [
             0.4444444444444444,
             "#bd3786"
            ],
            [
             0.5555555555555556,
             "#d8576b"
            ],
            [
             0.6666666666666666,
             "#ed7953"
            ],
            [
             0.7777777777777778,
             "#fb9f3a"
            ],
            [
             0.8888888888888888,
             "#fdca26"
            ],
            [
             1,
             "#f0f921"
            ]
           ]
          },
          "colorway": [
           "#636efa",
           "#EF553B",
           "#00cc96",
           "#ab63fa",
           "#FFA15A",
           "#19d3f3",
           "#FF6692",
           "#B6E880",
           "#FF97FF",
           "#FECB52"
          ],
          "font": {
           "color": "#2a3f5f"
          },
          "geo": {
           "bgcolor": "white",
           "lakecolor": "white",
           "landcolor": "#E5ECF6",
           "showlakes": true,
           "showland": true,
           "subunitcolor": "white"
          },
          "hoverlabel": {
           "align": "left"
          },
          "hovermode": "closest",
          "mapbox": {
           "style": "light"
          },
          "paper_bgcolor": "white",
          "plot_bgcolor": "#E5ECF6",
          "polar": {
           "angularaxis": {
            "gridcolor": "white",
            "linecolor": "white",
            "ticks": ""
           },
           "bgcolor": "#E5ECF6",
           "radialaxis": {
            "gridcolor": "white",
            "linecolor": "white",
            "ticks": ""
           }
          },
          "scene": {
           "xaxis": {
            "backgroundcolor": "#E5ECF6",
            "gridcolor": "white",
            "gridwidth": 2,
            "linecolor": "white",
            "showbackground": true,
            "ticks": "",
            "zerolinecolor": "white"
           },
           "yaxis": {
            "backgroundcolor": "#E5ECF6",
            "gridcolor": "white",
            "gridwidth": 2,
            "linecolor": "white",
            "showbackground": true,
            "ticks": "",
            "zerolinecolor": "white"
           },
           "zaxis": {
            "backgroundcolor": "#E5ECF6",
            "gridcolor": "white",
            "gridwidth": 2,
            "linecolor": "white",
            "showbackground": true,
            "ticks": "",
            "zerolinecolor": "white"
           }
          },
          "shapedefaults": {
           "line": {
            "color": "#2a3f5f"
           }
          },
          "ternary": {
           "aaxis": {
            "gridcolor": "white",
            "linecolor": "white",
            "ticks": ""
           },
           "baxis": {
            "gridcolor": "white",
            "linecolor": "white",
            "ticks": ""
           },
           "bgcolor": "#E5ECF6",
           "caxis": {
            "gridcolor": "white",
            "linecolor": "white",
            "ticks": ""
           }
          },
          "title": {
           "x": 0.05
          },
          "xaxis": {
           "automargin": true,
           "gridcolor": "white",
           "linecolor": "white",
           "ticks": "",
           "title": {
            "standoff": 15
           },
           "zerolinecolor": "white",
           "zerolinewidth": 2
          },
          "yaxis": {
           "automargin": true,
           "gridcolor": "white",
           "linecolor": "white",
           "ticks": "",
           "title": {
            "standoff": 15
           },
           "zerolinecolor": "white",
           "zerolinewidth": 2
          }
         }
        },
        "xaxis": {
         "anchor": "y",
         "domain": [
          0,
          1
         ],
         "title": {
          "text": "kf std [m/s]"
         }
        },
        "yaxis": {
         "anchor": "x",
         "domain": [
          0,
          1
         ],
         "title": {
          "text": "Porosity std [-]"
         }
        }
       }
      },
      "text/html": [
       "<div>                            <div id=\"87de8533-15d1-46ed-a6d4-26542b51bc62\" class=\"plotly-graph-div\" style=\"height:525px; width:100%;\"></div>            <script type=\"text/javascript\">                require([\"plotly\"], function(Plotly) {                    window.PLOTLYENV=window.PLOTLYENV || {};                                    if (document.getElementById(\"87de8533-15d1-46ed-a6d4-26542b51bc62\")) {                    Plotly.newPlot(                        \"87de8533-15d1-46ed-a6d4-26542b51bc62\",                        [{\"hovertemplate\":\"sample=Ref before<br>kf_std=%{x}<br>porosity_std=%{y}<br>Wooster et al. (2008) [Estimated kf]=%{marker.size}<extra></extra>\",\"legendgroup\":\"Ref before\",\"marker\":{\"color\":\"#636efa\",\"size\":[0.000235,0.000214,7.22e-05,1.74e-06],\"sizemode\":\"area\",\"sizeref\":3.375e-05,\"symbol\":\"circle\"},\"mode\":\"markers\",\"name\":\"Ref before\",\"orientation\":\"v\",\"showlegend\":true,\"x\":[8.180260794538674e-06,0.0,0.0,1.1500000000000006e-07],\"xaxis\":\"x\",\"y\":[0.02893685283202385,0.02893685283202385,0.02893685283202385,0.02893685283202385],\"yaxis\":\"y\",\"type\":\"scatter\"},{\"hovertemplate\":\"sample=Ref after<br>kf_std=%{x}<br>porosity_std=%{y}<br>Wooster et al. (2008) [Estimated kf]=%{marker.size}<extra></extra>\",\"legendgroup\":\"Ref after\",\"marker\":{\"color\":\"#EF553B\",\"size\":[0.0135,0.00827,0.00389,0.00233,0.00225,0.00216,0.00105,0.000889,0.000592],\"sizemode\":\"area\",\"sizeref\":3.375e-05,\"symbol\":\"circle\"},\"mode\":\"markers\",\"name\":\"Ref after\",\"orientation\":\"v\",\"showlegend\":true,\"x\":[0.00116619037896906,0.0002783732506306354,0.00030070749907509776,0.000262170428029809,0.00018920887928424517,8.679477710861026e-05,4.8030372335290765e-05,7.527283706623529e-05,5.8691282714442925e-05],\"xaxis\":\"x\",\"y\":[0.03112609802625566,0.03112609802625566,0.03112609802625566,0.03112609802625566,0.03112609802625566,0.03112609802625566,0.03112609802625566,0.03112609802625566,0.03112609802625566],\"yaxis\":\"y\",\"type\":\"scatter\"},{\"hovertemplate\":\"sample=A-1 before<br>kf_std=%{x}<br>porosity_std=%{y}<br>Wooster et al. (2008) [Estimated kf]=%{marker.size}<extra></extra>\",\"legendgroup\":\"A-1 before\",\"marker\":{\"color\":\"#00cc96\",\"size\":[6.04e-05,0.000311,0.000173,0.000136,2.96e-05,2.28e-06,1.89e-05],\"sizemode\":\"area\",\"sizeref\":3.375e-05,\"symbol\":\"circle\"},\"mode\":\"markers\",\"name\":\"A-1 before\",\"orientation\":\"v\",\"showlegend\":true,\"x\":[4.7236991154532e-06,1.1499999999999983e-05,0.0,9.999999999999972e-07,4.999999999999952e-08,1.166190378969061e-07,8.500000000000003e-07],\"xaxis\":\"x\",\"y\":[0.05800247614371768,0.05800247614371768,0.05800247614371768,0.05800247614371768,0.05800247614371768,0.05800247614371768,0.05800247614371768],\"yaxis\":\"y\",\"type\":\"scatter\"},{\"hovertemplate\":\"sample=A-1 after<br>kf_std=%{x}<br>porosity_std=%{y}<br>Wooster et al. (2008) [Estimated kf]=%{marker.size}<extra></extra>\",\"legendgroup\":\"A-1 after\",\"marker\":{\"color\":\"#ab63fa\",\"size\":[0.000721,0.000536,0.000418,0.000499,0.000448,0.00024,0.000318,0.000352,0.000272],\"sizemode\":\"area\",\"sizeref\":3.375e-05,\"symbol\":\"circle\"},\"mode\":\"markers\",\"name\":\"A-1 after\",\"orientation\":\"v\",\"showlegend\":true,\"x\":[2.45e-05,4.1835989291517895e-05,0.0,0.0,1.8000000000000004e-05,0.0,1.7233687939614087e-05,2.4540782383616043e-05,0.0],\"xaxis\":\"x\",\"y\":[0.044806317969138136,0.044806317969138136,0.044806317969138136,0.044806317969138136,0.044806317969138136,0.044806317969138136,0.044806317969138136,0.044806317969138136,0.044806317969138136],\"yaxis\":\"y\",\"type\":\"scatter\"},{\"hovertemplate\":\"sample=A-2 before<br>kf_std=%{x}<br>porosity_std=%{y}<br>Wooster et al. (2008) [Estimated kf]=%{marker.size}<extra></extra>\",\"legendgroup\":\"A-2 before\",\"marker\":{\"color\":\"#FFA15A\",\"size\":[0.000116,5.09e-05,4.52e-05,4.93e-05,3.69e-05,3.05e-05,9.48e-06,1.63e-05],\"sizemode\":\"area\",\"sizeref\":3.375e-05,\"symbol\":\"circle\"},\"mode\":\"markers\",\"name\":\"A-2 before\",\"orientation\":\"v\",\"showlegend\":true,\"x\":[4.716990566028306e-06,0.0,5.0000000000001215e-08,5.499999999999998e-07,1.499999999999999e-06,1.2500000000000016e-06,3.567893869871505e-06,7.499999999999996e-07],\"xaxis\":\"x\",\"y\":[0.06342947075492804,0.06342947075492804,0.06342947075492804,0.06342947075492804,0.06342947075492804,0.06342947075492804,0.06342947075492804,0.06342947075492804],\"yaxis\":\"y\",\"type\":\"scatter\"},{\"hovertemplate\":\"sample=A-2 after<br>kf_std=%{x}<br>porosity_std=%{y}<br>Wooster et al. (2008) [Estimated kf]=%{marker.size}<extra></extra>\",\"legendgroup\":\"A-2 after\",\"marker\":{\"color\":\"#19d3f3\",\"size\":[0.00116,0.000388,0.000111,8.27e-05,1.88e-05,6.69e-05,3.01e-05,7.73e-06],\"sizemode\":\"area\",\"sizeref\":3.375e-05,\"symbol\":\"circle\"},\"mode\":\"markers\",\"name\":\"A-2 after\",\"orientation\":\"v\",\"showlegend\":true,\"x\":[4.500000000000001e-05,6.00000000000001e-06,8.05e-06,6.640783086353598e-06,2.215663933602446e-06,0.0,2.1500000000000014e-06,5.159053530768349e-07],\"xaxis\":\"x\",\"y\":[0.05594907216428909,0.05594907216428909,0.05594907216428909,0.05594907216428909,0.05594907216428909,0.05594907216428909,0.05594907216428909,0.05594907216428909],\"yaxis\":\"y\",\"type\":\"scatter\"},{\"hovertemplate\":\"sample=B-1 before<br>kf_std=%{x}<br>porosity_std=%{y}<br>Wooster et al. (2008) [Estimated kf]=%{marker.size}<extra></extra>\",\"legendgroup\":\"B-1 before\",\"marker\":{\"color\":\"#FF6692\",\"size\":[0.00401,0.00197,0.00385,0.00238,0.00109,0.00208,0.00181,0.000659],\"sizemode\":\"area\",\"sizeref\":3.375e-05,\"symbol\":\"circle\"},\"mode\":\"markers\",\"name\":\"B-1 before\",\"orientation\":\"v\",\"showlegend\":true,\"x\":[0.0,0.00012419742348374229,0.00013999999999999993,0.0,7.438637868140465e-05,5.000000000000013e-06,9.03234926989282e-05,2.9670411748631568e-05],\"xaxis\":\"x\",\"y\":[0.021905135961535746,0.021905135961535746,0.021905135961535746,0.021905135961535746,0.021905135961535746,0.021905135961535746,0.021905135961535746,0.021905135961535746],\"yaxis\":\"y\",\"type\":\"scatter\"},{\"hovertemplate\":\"sample=B-1 after<br>kf_std=%{x}<br>porosity_std=%{y}<br>Wooster et al. (2008) [Estimated kf]=%{marker.size}<extra></extra>\",\"legendgroup\":\"B-1 after\",\"marker\":{\"color\":\"#B6E880\",\"size\":[0.00564,0.00667,0.00498,0.00325,0.00296,0.00181,0.000989,0.000609],\"sizemode\":\"area\",\"sizeref\":3.375e-05,\"symbol\":\"circle\"},\"mode\":\"markers\",\"name\":\"B-1 after\",\"orientation\":\"v\",\"showlegend\":true,\"x\":[0.0004965547972446411,0.0005756952318718642,0.00017339742404853285,0.0001767295485574873,0.0001241974234837422,0.0,0.00010145935146648633,6.999999999999953e-06],\"xaxis\":\"x\",\"y\":[0.019351714607868897,0.019351714607868897,0.019351714607868897,0.019351714607868897,0.019351714607868897,0.019351714607868897,0.019351714607868897,0.019351714607868897],\"yaxis\":\"y\",\"type\":\"scatter\"},{\"hovertemplate\":\"sample=B-2 before<br>kf_std=%{x}<br>porosity_std=%{y}<br>Wooster et al. (2008) [Estimated kf]=%{marker.size}<extra></extra>\",\"legendgroup\":\"B-2 before\",\"marker\":{\"color\":\"#FF97FF\",\"size\":[0.0102,0.00957,0.00769,0.0044,0.00423,0.00492,0.00336,0.00366,0.00104,0.000975],\"sizemode\":\"area\",\"sizeref\":3.375e-05,\"symbol\":\"circle\"},\"mode\":\"markers\",\"name\":\"B-2 before\",\"orientation\":\"v\",\"showlegend\":true,\"x\":[0.0,0.0006257994886543132,0.0006560995859369723,0.00026837473800639275,0.00014999999999999996,0.00019499999999999983,0.00030901725949640193,0.0,0.0,5.991313156006235e-05],\"xaxis\":\"x\",\"y\":[0.025143276212933812,0.025143276212933812,0.025143276212933812,0.025143276212933812,0.025143276212933812,0.025143276212933812,0.025143276212933812,0.025143276212933812,0.025143276212933812,0.025143276212933812],\"yaxis\":\"y\",\"type\":\"scatter\"},{\"hovertemplate\":\"sample=B-2 after<br>kf_std=%{x}<br>porosity_std=%{y}<br>Wooster et al. (2008) [Estimated kf]=%{marker.size}<extra></extra>\",\"legendgroup\":\"B-2 after\",\"marker\":{\"color\":\"#FECB52\",\"size\":[0.00296,0.00411,0.00535,0.00503,0.004,0.00329,0.00264,0.00201,0.00171,0.000916],\"sizemode\":\"area\",\"sizeref\":3.375e-05,\"symbol\":\"circle\"},\"mode\":\"markers\",\"name\":\"B-2 after\",\"orientation\":\"v\",\"showlegend\":true,\"x\":[0.0001087428158546578,5.000000000000229e-06,0.0005051979809935904,5.773502691896524e-06,6.075908711186064e-05,0.0003402327634625057,0.0002618364629560471,9.500000000000003e-05,1.4999999999999933e-05,5.1668817159546735e-05],\"xaxis\":\"x\",\"y\":[0.026706798277865026,0.026706798277865026,0.026706798277865026,0.026706798277865026,0.026706798277865026,0.026706798277865026,0.026706798277865026,0.026706798277865026,0.026706798277865026,0.026706798277865026],\"yaxis\":\"y\",\"type\":\"scatter\"}],                        {\"template\":{\"data\":{\"bar\":[{\"error_x\":{\"color\":\"#2a3f5f\"},\"error_y\":{\"color\":\"#2a3f5f\"},\"marker\":{\"line\":{\"color\":\"#E5ECF6\",\"width\":0.5},\"pattern\":{\"fillmode\":\"overlay\",\"size\":10,\"solidity\":0.2}},\"type\":\"bar\"}],\"barpolar\":[{\"marker\":{\"line\":{\"color\":\"#E5ECF6\",\"width\":0.5},\"pattern\":{\"fillmode\":\"overlay\",\"size\":10,\"solidity\":0.2}},\"type\":\"barpolar\"}],\"carpet\":[{\"aaxis\":{\"endlinecolor\":\"#2a3f5f\",\"gridcolor\":\"white\",\"linecolor\":\"white\",\"minorgridcolor\":\"white\",\"startlinecolor\":\"#2a3f5f\"},\"baxis\":{\"endlinecolor\":\"#2a3f5f\",\"gridcolor\":\"white\",\"linecolor\":\"white\",\"minorgridcolor\":\"white\",\"startlinecolor\":\"#2a3f5f\"},\"type\":\"carpet\"}],\"choropleth\":[{\"colorbar\":{\"outlinewidth\":0,\"ticks\":\"\"},\"type\":\"choropleth\"}],\"contour\":[{\"colorbar\":{\"outlinewidth\":0,\"ticks\":\"\"},\"colorscale\":[[0.0,\"#0d0887\"],[0.1111111111111111,\"#46039f\"],[0.2222222222222222,\"#7201a8\"],[0.3333333333333333,\"#9c179e\"],[0.4444444444444444,\"#bd3786\"],[0.5555555555555556,\"#d8576b\"],[0.6666666666666666,\"#ed7953\"],[0.7777777777777778,\"#fb9f3a\"],[0.8888888888888888,\"#fdca26\"],[1.0,\"#f0f921\"]],\"type\":\"contour\"}],\"contourcarpet\":[{\"colorbar\":{\"outlinewidth\":0,\"ticks\":\"\"},\"type\":\"contourcarpet\"}],\"heatmap\":[{\"colorbar\":{\"outlinewidth\":0,\"ticks\":\"\"},\"colorscale\":[[0.0,\"#0d0887\"],[0.1111111111111111,\"#46039f\"],[0.2222222222222222,\"#7201a8\"],[0.3333333333333333,\"#9c179e\"],[0.4444444444444444,\"#bd3786\"],[0.5555555555555556,\"#d8576b\"],[0.6666666666666666,\"#ed7953\"],[0.7777777777777778,\"#fb9f3a\"],[0.8888888888888888,\"#fdca26\"],[1.0,\"#f0f921\"]],\"type\":\"heatmap\"}],\"heatmapgl\":[{\"colorbar\":{\"outlinewidth\":0,\"ticks\":\"\"},\"colorscale\":[[0.0,\"#0d0887\"],[0.1111111111111111,\"#46039f\"],[0.2222222222222222,\"#7201a8\"],[0.3333333333333333,\"#9c179e\"],[0.4444444444444444,\"#bd3786\"],[0.5555555555555556,\"#d8576b\"],[0.6666666666666666,\"#ed7953\"],[0.7777777777777778,\"#fb9f3a\"],[0.8888888888888888,\"#fdca26\"],[1.0,\"#f0f921\"]],\"type\":\"heatmapgl\"}],\"histogram\":[{\"marker\":{\"pattern\":{\"fillmode\":\"overlay\",\"size\":10,\"solidity\":0.2}},\"type\":\"histogram\"}],\"histogram2d\":[{\"colorbar\":{\"outlinewidth\":0,\"ticks\":\"\"},\"colorscale\":[[0.0,\"#0d0887\"],[0.1111111111111111,\"#46039f\"],[0.2222222222222222,\"#7201a8\"],[0.3333333333333333,\"#9c179e\"],[0.4444444444444444,\"#bd3786\"],[0.5555555555555556,\"#d8576b\"],[0.6666666666666666,\"#ed7953\"],[0.7777777777777778,\"#fb9f3a\"],[0.8888888888888888,\"#fdca26\"],[1.0,\"#f0f921\"]],\"type\":\"histogram2d\"}],\"histogram2dcontour\":[{\"colorbar\":{\"outlinewidth\":0,\"ticks\":\"\"},\"colorscale\":[[0.0,\"#0d0887\"],[0.1111111111111111,\"#46039f\"],[0.2222222222222222,\"#7201a8\"],[0.3333333333333333,\"#9c179e\"],[0.4444444444444444,\"#bd3786\"],[0.5555555555555556,\"#d8576b\"],[0.6666666666666666,\"#ed7953\"],[0.7777777777777778,\"#fb9f3a\"],[0.8888888888888888,\"#fdca26\"],[1.0,\"#f0f921\"]],\"type\":\"histogram2dcontour\"}],\"mesh3d\":[{\"colorbar\":{\"outlinewidth\":0,\"ticks\":\"\"},\"type\":\"mesh3d\"}],\"parcoords\":[{\"line\":{\"colorbar\":{\"outlinewidth\":0,\"ticks\":\"\"}},\"type\":\"parcoords\"}],\"pie\":[{\"automargin\":true,\"type\":\"pie\"}],\"scatter\":[{\"marker\":{\"colorbar\":{\"outlinewidth\":0,\"ticks\":\"\"}},\"type\":\"scatter\"}],\"scatter3d\":[{\"line\":{\"colorbar\":{\"outlinewidth\":0,\"ticks\":\"\"}},\"marker\":{\"colorbar\":{\"outlinewidth\":0,\"ticks\":\"\"}},\"type\":\"scatter3d\"}],\"scattercarpet\":[{\"marker\":{\"colorbar\":{\"outlinewidth\":0,\"ticks\":\"\"}},\"type\":\"scattercarpet\"}],\"scattergeo\":[{\"marker\":{\"colorbar\":{\"outlinewidth\":0,\"ticks\":\"\"}},\"type\":\"scattergeo\"}],\"scattergl\":[{\"marker\":{\"colorbar\":{\"outlinewidth\":0,\"ticks\":\"\"}},\"type\":\"scattergl\"}],\"scattermapbox\":[{\"marker\":{\"colorbar\":{\"outlinewidth\":0,\"ticks\":\"\"}},\"type\":\"scattermapbox\"}],\"scatterpolar\":[{\"marker\":{\"colorbar\":{\"outlinewidth\":0,\"ticks\":\"\"}},\"type\":\"scatterpolar\"}],\"scatterpolargl\":[{\"marker\":{\"colorbar\":{\"outlinewidth\":0,\"ticks\":\"\"}},\"type\":\"scatterpolargl\"}],\"scatterternary\":[{\"marker\":{\"colorbar\":{\"outlinewidth\":0,\"ticks\":\"\"}},\"type\":\"scatterternary\"}],\"surface\":[{\"colorbar\":{\"outlinewidth\":0,\"ticks\":\"\"},\"colorscale\":[[0.0,\"#0d0887\"],[0.1111111111111111,\"#46039f\"],[0.2222222222222222,\"#7201a8\"],[0.3333333333333333,\"#9c179e\"],[0.4444444444444444,\"#bd3786\"],[0.5555555555555556,\"#d8576b\"],[0.6666666666666666,\"#ed7953\"],[0.7777777777777778,\"#fb9f3a\"],[0.8888888888888888,\"#fdca26\"],[1.0,\"#f0f921\"]],\"type\":\"surface\"}],\"table\":[{\"cells\":{\"fill\":{\"color\":\"#EBF0F8\"},\"line\":{\"color\":\"white\"}},\"header\":{\"fill\":{\"color\":\"#C8D4E3\"},\"line\":{\"color\":\"white\"}},\"type\":\"table\"}]},\"layout\":{\"annotationdefaults\":{\"arrowcolor\":\"#2a3f5f\",\"arrowhead\":0,\"arrowwidth\":1},\"autotypenumbers\":\"strict\",\"coloraxis\":{\"colorbar\":{\"outlinewidth\":0,\"ticks\":\"\"}},\"colorscale\":{\"diverging\":[[0,\"#8e0152\"],[0.1,\"#c51b7d\"],[0.2,\"#de77ae\"],[0.3,\"#f1b6da\"],[0.4,\"#fde0ef\"],[0.5,\"#f7f7f7\"],[0.6,\"#e6f5d0\"],[0.7,\"#b8e186\"],[0.8,\"#7fbc41\"],[0.9,\"#4d9221\"],[1,\"#276419\"]],\"sequential\":[[0.0,\"#0d0887\"],[0.1111111111111111,\"#46039f\"],[0.2222222222222222,\"#7201a8\"],[0.3333333333333333,\"#9c179e\"],[0.4444444444444444,\"#bd3786\"],[0.5555555555555556,\"#d8576b\"],[0.6666666666666666,\"#ed7953\"],[0.7777777777777778,\"#fb9f3a\"],[0.8888888888888888,\"#fdca26\"],[1.0,\"#f0f921\"]],\"sequentialminus\":[[0.0,\"#0d0887\"],[0.1111111111111111,\"#46039f\"],[0.2222222222222222,\"#7201a8\"],[0.3333333333333333,\"#9c179e\"],[0.4444444444444444,\"#bd3786\"],[0.5555555555555556,\"#d8576b\"],[0.6666666666666666,\"#ed7953\"],[0.7777777777777778,\"#fb9f3a\"],[0.8888888888888888,\"#fdca26\"],[1.0,\"#f0f921\"]]},\"colorway\":[\"#636efa\",\"#EF553B\",\"#00cc96\",\"#ab63fa\",\"#FFA15A\",\"#19d3f3\",\"#FF6692\",\"#B6E880\",\"#FF97FF\",\"#FECB52\"],\"font\":{\"color\":\"#2a3f5f\"},\"geo\":{\"bgcolor\":\"white\",\"lakecolor\":\"white\",\"landcolor\":\"#E5ECF6\",\"showlakes\":true,\"showland\":true,\"subunitcolor\":\"white\"},\"hoverlabel\":{\"align\":\"left\"},\"hovermode\":\"closest\",\"mapbox\":{\"style\":\"light\"},\"paper_bgcolor\":\"white\",\"plot_bgcolor\":\"#E5ECF6\",\"polar\":{\"angularaxis\":{\"gridcolor\":\"white\",\"linecolor\":\"white\",\"ticks\":\"\"},\"bgcolor\":\"#E5ECF6\",\"radialaxis\":{\"gridcolor\":\"white\",\"linecolor\":\"white\",\"ticks\":\"\"}},\"scene\":{\"xaxis\":{\"backgroundcolor\":\"#E5ECF6\",\"gridcolor\":\"white\",\"gridwidth\":2,\"linecolor\":\"white\",\"showbackground\":true,\"ticks\":\"\",\"zerolinecolor\":\"white\"},\"yaxis\":{\"backgroundcolor\":\"#E5ECF6\",\"gridcolor\":\"white\",\"gridwidth\":2,\"linecolor\":\"white\",\"showbackground\":true,\"ticks\":\"\",\"zerolinecolor\":\"white\"},\"zaxis\":{\"backgroundcolor\":\"#E5ECF6\",\"gridcolor\":\"white\",\"gridwidth\":2,\"linecolor\":\"white\",\"showbackground\":true,\"ticks\":\"\",\"zerolinecolor\":\"white\"}},\"shapedefaults\":{\"line\":{\"color\":\"#2a3f5f\"}},\"ternary\":{\"aaxis\":{\"gridcolor\":\"white\",\"linecolor\":\"white\",\"ticks\":\"\"},\"baxis\":{\"gridcolor\":\"white\",\"linecolor\":\"white\",\"ticks\":\"\"},\"bgcolor\":\"#E5ECF6\",\"caxis\":{\"gridcolor\":\"white\",\"linecolor\":\"white\",\"ticks\":\"\"}},\"title\":{\"x\":0.05},\"xaxis\":{\"automargin\":true,\"gridcolor\":\"white\",\"linecolor\":\"white\",\"ticks\":\"\",\"title\":{\"standoff\":15},\"zerolinecolor\":\"white\",\"zerolinewidth\":2},\"yaxis\":{\"automargin\":true,\"gridcolor\":\"white\",\"linecolor\":\"white\",\"ticks\":\"\",\"title\":{\"standoff\":15},\"zerolinecolor\":\"white\",\"zerolinewidth\":2}}},\"xaxis\":{\"anchor\":\"y\",\"domain\":[0.0,1.0],\"title\":{\"text\":\"kf std [m/s]\"}},\"yaxis\":{\"anchor\":\"x\",\"domain\":[0.0,1.0],\"title\":{\"text\":\"Porosity std [-]\"}},\"legend\":{\"title\":{\"text\":\"sample\"},\"tracegroupgap\":0,\"itemsizing\":\"constant\"},\"margin\":{\"t\":60}},                        {\"responsive\": true}                    ).then(function(){\n",
       "                            \n",
       "var gd = document.getElementById('87de8533-15d1-46ed-a6d4-26542b51bc62');\n",
       "var x = new MutationObserver(function (mutations, observer) {{\n",
       "        var display = window.getComputedStyle(gd).display;\n",
       "        if (!display || display === 'none') {{\n",
       "            console.log([gd, 'removed!']);\n",
       "            Plotly.purge(gd);\n",
       "            observer.disconnect();\n",
       "        }}\n",
       "}});\n",
       "\n",
       "// Listen for the removal of the full notebook cells\n",
       "var notebookContainer = gd.closest('#notebook-container');\n",
       "if (notebookContainer) {{\n",
       "    x.observe(notebookContainer, {childList: true});\n",
       "}}\n",
       "\n",
       "// Listen for the clearing of the current output cell\n",
       "var outputEl = gd.closest('.output');\n",
       "if (outputEl) {{\n",
       "    x.observe(outputEl, {childList: true});\n",
       "}}\n",
       "\n",
       "                        })                };                });            </script>        </div>"
      ]
     },
     "metadata": {},
     "output_type": "display_data"
    }
   ],
   "source": [
    "fig = px.scatter(df, \n",
    "           x='kf_std',\n",
    "           y='porosity_std', \n",
    "           color='sample',\n",
    "           size='Wooster et al. (2008) [Estimated kf]')\n",
    "\n",
    "fig.update_layout(yaxis_title='Porosity std [-]',\n",
    "                  xaxis_title='kf std [m/s]')"
   ]
  },
  {
   "cell_type": "code",
   "execution_count": 69,
   "metadata": {},
   "outputs": [
    {
     "data": {
      "application/vnd.plotly.v1+json": {
       "config": {
        "plotlyServerURL": "https://plot.ly"
       },
       "data": [
        {
         "hovertemplate": "sample=Ref before<br>kf_range=%{x}<br>porosity_range=%{y}<br>depth=%{marker.size}<extra></extra>",
         "legendgroup": "Ref before",
         "marker": {
          "color": "#636efa",
          "size": [
           0.12,
           0.15,
           0.18,
           0.27
          ],
          "sizemode": "area",
          "sizeref": 0.00135,
          "symbol": "circle"
         },
         "mode": "markers",
         "name": "Ref before",
         "orientation": "v",
         "showlegend": true,
         "type": "scatter",
         "x": [
          1.699999999999998e-05,
          0,
          0,
          2.3000000000000013e-07
         ],
         "xaxis": "x",
         "y": [
          0.05307760399999997,
          0.05307760399999997,
          0.05307760399999997,
          0.05307760399999997
         ],
         "yaxis": "y"
        },
        {
         "hovertemplate": "sample=Ref after<br>kf_range=%{x}<br>porosity_range=%{y}<br>depth=%{marker.size}<extra></extra>",
         "legendgroup": "Ref after",
         "marker": {
          "color": "#EF553B",
          "size": [
           0.12,
           0.15,
           0.18,
           0.21,
           0.24,
           0.27,
           0.33,
           0.39,
           0.45
          ],
          "sizemode": "area",
          "sizeref": 0.00135,
          "symbol": "circle"
         },
         "mode": "markers",
         "name": "Ref after",
         "orientation": "v",
         "showlegend": true,
         "type": "scatter",
         "x": [
          0.0028000000000000004,
          0.0005599999999999997,
          0.0005699999999999998,
          0.0005899999999999998,
          0.00046000000000000034,
          0.00018000000000000004,
          0.00010999999999999996,
          0.00013700000000000008,
          0.000143
         ],
         "xaxis": "x",
         "y": [
          0.06103149599999999,
          0.06103149599999999,
          0.06103149599999999,
          0.06103149599999999,
          0.06103149599999999,
          0.06103149599999999,
          0.06103149599999999,
          0.06103149599999999,
          0.06103149599999999
         ],
         "yaxis": "y"
        },
        {
         "hovertemplate": "sample=A-1 before<br>kf_range=%{x}<br>porosity_range=%{y}<br>depth=%{marker.size}<extra></extra>",
         "legendgroup": "A-1 before",
         "marker": {
          "color": "#00cc96",
          "size": [
           0.12,
           0.15,
           0.18,
           0.24,
           0.27,
           0.33,
           0.39
          ],
          "sizemode": "area",
          "sizeref": 0.00135,
          "symbol": "circle"
         },
         "mode": "markers",
         "name": "A-1 before",
         "orientation": "v",
         "showlegend": true,
         "type": "scatter",
         "x": [
          9.900000000000003e-06,
          2.2999999999999963e-05,
          0,
          1.9999999999999944e-06,
          9.999999999999904e-08,
          2.2e-07,
          1.7000000000000007e-06
         ],
         "xaxis": "x",
         "y": [
          0.11641718000000004,
          0.11641718000000004,
          0.11641718000000004,
          0.11641718000000004,
          0.11641718000000004,
          0.11641718000000004,
          0.11641718000000004
         ],
         "yaxis": "y"
        },
        {
         "hovertemplate": "sample=A-1 after<br>kf_range=%{x}<br>porosity_range=%{y}<br>depth=%{marker.size}<extra></extra>",
         "legendgroup": "A-1 after",
         "marker": {
          "color": "#ab63fa",
          "size": [
           0.16,
           0.19,
           0.22,
           0.25,
           0.28,
           0.34,
           0.4,
           0.46,
           0.52
          ],
          "sizemode": "area",
          "sizeref": 0.00135,
          "symbol": "circle"
         },
         "mode": "markers",
         "name": "A-1 after",
         "orientation": "v",
         "showlegend": true,
         "type": "scatter",
         "x": [
          4.9e-05,
          8.300000000000001e-05,
          0,
          0,
          3.600000000000001e-05,
          0,
          3.600000000000001e-05,
          4.7999999999999974e-05,
          0
         ],
         "xaxis": "x",
         "y": [
          0.09273559900000003,
          0.09273559900000003,
          0.09273559900000003,
          0.09273559900000003,
          0.09273559900000003,
          0.09273559900000003,
          0.09273559900000003,
          0.09273559900000003,
          0.09273559900000003
         ],
         "yaxis": "y"
        },
        {
         "hovertemplate": "sample=A-2 before<br>kf_range=%{x}<br>porosity_range=%{y}<br>depth=%{marker.size}<extra></extra>",
         "legendgroup": "A-2 before",
         "marker": {
          "color": "#FFA15A",
          "size": [
           0.19,
           0.22,
           0.25,
           0.28,
           0.31,
           0.34,
           0.4,
           0.46
          ],
          "sizemode": "area",
          "sizeref": 0.00135,
          "symbol": "circle"
         },
         "mode": "markers",
         "name": "A-2 before",
         "orientation": "v",
         "showlegend": true,
         "type": "scatter",
         "x": [
          1.100000000000001e-05,
          0,
          1.0000000000000243e-07,
          1.0999999999999996e-06,
          2.9999999999999984e-06,
          2.500000000000003e-06,
          7.519999999999999e-06,
          1.4999999999999992e-06
         ],
         "xaxis": "x",
         "y": [
          0.12665362200000002,
          0.12665362200000002,
          0.12665362200000002,
          0.12665362200000002,
          0.12665362200000002,
          0.12665362200000002,
          0.12665362200000002,
          0.12665362200000002
         ],
         "yaxis": "y"
        },
        {
         "hovertemplate": "sample=A-2 after<br>kf_range=%{x}<br>porosity_range=%{y}<br>depth=%{marker.size}<extra></extra>",
         "legendgroup": "A-2 after",
         "marker": {
          "color": "#19d3f3",
          "size": [
           0.09,
           0.12,
           0.15,
           0.18,
           0.21,
           0.24,
           0.3,
           0.36
          ],
          "sizemode": "area",
          "sizeref": 0.00135,
          "symbol": "circle"
         },
         "mode": "markers",
         "name": "A-2 after",
         "orientation": "v",
         "showlegend": true,
         "type": "scatter",
         "x": [
          9.000000000000002e-05,
          1.200000000000002e-05,
          1.61e-05,
          1.17e-05,
          4.699999999999999e-06,
          0,
          4.300000000000003e-06,
          1.0700000000000008e-06
         ],
         "xaxis": "x",
         "y": [
          0.11137972200000001,
          0.11137972200000001,
          0.11137972200000001,
          0.11137972200000001,
          0.11137972200000001,
          0.11137972200000001,
          0.11137972200000001,
          0.11137972200000001
         ],
         "yaxis": "y"
        },
        {
         "hovertemplate": "sample=B-1 before<br>kf_range=%{x}<br>porosity_range=%{y}<br>depth=%{marker.size}<extra></extra>",
         "legendgroup": "B-1 before",
         "marker": {
          "color": "#FF6692",
          "size": [
           0.12,
           0.15,
           0.18,
           0.21,
           0.24,
           0.27,
           0.33,
           0.39
          ],
          "sizemode": "area",
          "sizeref": 0.00135,
          "symbol": "circle"
         },
         "mode": "markers",
         "name": "B-1 before",
         "orientation": "v",
         "showlegend": true,
         "type": "scatter",
         "x": [
          0,
          0.00022000000000000014,
          0.00027999999999999987,
          0,
          0.00017,
          1.0000000000000026e-05,
          0.00019000000000000006,
          6.000000000000005e-05
         ],
         "xaxis": "x",
         "y": [
          0.046602861999999995,
          0.046602861999999995,
          0.046602861999999995,
          0.046602861999999995,
          0.046602861999999995,
          0.046602861999999995,
          0.046602861999999995,
          0.046602861999999995
         ],
         "yaxis": "y"
        },
        {
         "hovertemplate": "sample=B-1 after<br>kf_range=%{x}<br>porosity_range=%{y}<br>depth=%{marker.size}<extra></extra>",
         "legendgroup": "B-1 after",
         "marker": {
          "color": "#B6E880",
          "size": [
           0.12,
           0.15,
           0.18,
           0.21,
           0.24,
           0.27,
           0.33,
           0.39
          ],
          "sizemode": "area",
          "sizeref": 0.00135,
          "symbol": "circle"
         },
         "mode": "markers",
         "name": "B-1 after",
         "orientation": "v",
         "showlegend": true,
         "type": "scatter",
         "x": [
          0.0008700000000000001,
          0.0013799999999999993,
          0.0003500000000000005,
          0.00035999999999999964,
          0.0002899999999999999,
          0,
          0.00021500000000000002,
          1.3999999999999907e-05
         ],
         "xaxis": "x",
         "y": [
          0.04019597499999997,
          0.04019597499999997,
          0.04019597499999997,
          0.04019597499999997,
          0.04019597499999997,
          0.04019597499999997,
          0.04019597499999997,
          0.04019597499999997
         ],
         "yaxis": "y"
        },
        {
         "hovertemplate": "sample=B-2 before<br>kf_range=%{x}<br>porosity_range=%{y}<br>depth=%{marker.size}<extra></extra>",
         "legendgroup": "B-2 before",
         "marker": {
          "color": "#FF97FF",
          "size": [
           0.12,
           0.15,
           0.18,
           0.21,
           0.24,
           0.27,
           0.33,
           0.39,
           0.45,
           0.51
          ],
          "sizemode": "area",
          "sizeref": 0.00135,
          "symbol": "circle"
         },
         "mode": "markers",
         "name": "B-2 before",
         "orientation": "v",
         "showlegend": true,
         "type": "scatter",
         "x": [
          0,
          0.0013299999999999996,
          0.0013899999999999997,
          0.0005399999999999997,
          0.0002999999999999999,
          0.0003899999999999997,
          0.0007499999999999998,
          0,
          0,
          0.0001250000000000001
         ],
         "xaxis": "x",
         "y": [
          0.053894162999999995,
          0.053894162999999995,
          0.053894162999999995,
          0.053894162999999995,
          0.053894162999999995,
          0.053894162999999995,
          0.053894162999999995,
          0.053894162999999995,
          0.053894162999999995,
          0.053894162999999995
         ],
         "yaxis": "y"
        },
        {
         "hovertemplate": "sample=B-2 after<br>kf_range=%{x}<br>porosity_range=%{y}<br>depth=%{marker.size}<extra></extra>",
         "legendgroup": "B-2 after",
         "marker": {
          "color": "#FECB52",
          "size": [
           0.15,
           0.18,
           0.21,
           0.24,
           0.27,
           0.3,
           0.36,
           0.42,
           0.48,
           0.54
          ],
          "sizemode": "area",
          "sizeref": 0.00135,
          "symbol": "circle"
         },
         "mode": "markers",
         "name": "B-2 after",
         "orientation": "v",
         "showlegend": true,
         "type": "scatter",
         "x": [
          0.00023000000000000017,
          1.000000000000046e-05,
          0.00102,
          1.000000000000046e-05,
          0.00010999999999999985,
          0.00082,
          0.0006300000000000004,
          0.00019000000000000006,
          2.9999999999999862e-05,
          0.00010400000000000003
         ],
         "xaxis": "x",
         "y": [
          0.05856665,
          0.05856665,
          0.05856665,
          0.05856665,
          0.05856665,
          0.05856665,
          0.05856665,
          0.05856665,
          0.05856665,
          0.05856665
         ],
         "yaxis": "y"
        }
       ],
       "layout": {
        "legend": {
         "itemsizing": "constant",
         "title": {
          "text": "sample"
         },
         "tracegroupgap": 0
        },
        "margin": {
         "t": 60
        },
        "template": {
         "data": {
          "bar": [
           {
            "error_x": {
             "color": "#2a3f5f"
            },
            "error_y": {
             "color": "#2a3f5f"
            },
            "marker": {
             "line": {
              "color": "#E5ECF6",
              "width": 0.5
             },
             "pattern": {
              "fillmode": "overlay",
              "size": 10,
              "solidity": 0.2
             }
            },
            "type": "bar"
           }
          ],
          "barpolar": [
           {
            "marker": {
             "line": {
              "color": "#E5ECF6",
              "width": 0.5
             },
             "pattern": {
              "fillmode": "overlay",
              "size": 10,
              "solidity": 0.2
             }
            },
            "type": "barpolar"
           }
          ],
          "carpet": [
           {
            "aaxis": {
             "endlinecolor": "#2a3f5f",
             "gridcolor": "white",
             "linecolor": "white",
             "minorgridcolor": "white",
             "startlinecolor": "#2a3f5f"
            },
            "baxis": {
             "endlinecolor": "#2a3f5f",
             "gridcolor": "white",
             "linecolor": "white",
             "minorgridcolor": "white",
             "startlinecolor": "#2a3f5f"
            },
            "type": "carpet"
           }
          ],
          "choropleth": [
           {
            "colorbar": {
             "outlinewidth": 0,
             "ticks": ""
            },
            "type": "choropleth"
           }
          ],
          "contour": [
           {
            "colorbar": {
             "outlinewidth": 0,
             "ticks": ""
            },
            "colorscale": [
             [
              0,
              "#0d0887"
             ],
             [
              0.1111111111111111,
              "#46039f"
             ],
             [
              0.2222222222222222,
              "#7201a8"
             ],
             [
              0.3333333333333333,
              "#9c179e"
             ],
             [
              0.4444444444444444,
              "#bd3786"
             ],
             [
              0.5555555555555556,
              "#d8576b"
             ],
             [
              0.6666666666666666,
              "#ed7953"
             ],
             [
              0.7777777777777778,
              "#fb9f3a"
             ],
             [
              0.8888888888888888,
              "#fdca26"
             ],
             [
              1,
              "#f0f921"
             ]
            ],
            "type": "contour"
           }
          ],
          "contourcarpet": [
           {
            "colorbar": {
             "outlinewidth": 0,
             "ticks": ""
            },
            "type": "contourcarpet"
           }
          ],
          "heatmap": [
           {
            "colorbar": {
             "outlinewidth": 0,
             "ticks": ""
            },
            "colorscale": [
             [
              0,
              "#0d0887"
             ],
             [
              0.1111111111111111,
              "#46039f"
             ],
             [
              0.2222222222222222,
              "#7201a8"
             ],
             [
              0.3333333333333333,
              "#9c179e"
             ],
             [
              0.4444444444444444,
              "#bd3786"
             ],
             [
              0.5555555555555556,
              "#d8576b"
             ],
             [
              0.6666666666666666,
              "#ed7953"
             ],
             [
              0.7777777777777778,
              "#fb9f3a"
             ],
             [
              0.8888888888888888,
              "#fdca26"
             ],
             [
              1,
              "#f0f921"
             ]
            ],
            "type": "heatmap"
           }
          ],
          "heatmapgl": [
           {
            "colorbar": {
             "outlinewidth": 0,
             "ticks": ""
            },
            "colorscale": [
             [
              0,
              "#0d0887"
             ],
             [
              0.1111111111111111,
              "#46039f"
             ],
             [
              0.2222222222222222,
              "#7201a8"
             ],
             [
              0.3333333333333333,
              "#9c179e"
             ],
             [
              0.4444444444444444,
              "#bd3786"
             ],
             [
              0.5555555555555556,
              "#d8576b"
             ],
             [
              0.6666666666666666,
              "#ed7953"
             ],
             [
              0.7777777777777778,
              "#fb9f3a"
             ],
             [
              0.8888888888888888,
              "#fdca26"
             ],
             [
              1,
              "#f0f921"
             ]
            ],
            "type": "heatmapgl"
           }
          ],
          "histogram": [
           {
            "marker": {
             "pattern": {
              "fillmode": "overlay",
              "size": 10,
              "solidity": 0.2
             }
            },
            "type": "histogram"
           }
          ],
          "histogram2d": [
           {
            "colorbar": {
             "outlinewidth": 0,
             "ticks": ""
            },
            "colorscale": [
             [
              0,
              "#0d0887"
             ],
             [
              0.1111111111111111,
              "#46039f"
             ],
             [
              0.2222222222222222,
              "#7201a8"
             ],
             [
              0.3333333333333333,
              "#9c179e"
             ],
             [
              0.4444444444444444,
              "#bd3786"
             ],
             [
              0.5555555555555556,
              "#d8576b"
             ],
             [
              0.6666666666666666,
              "#ed7953"
             ],
             [
              0.7777777777777778,
              "#fb9f3a"
             ],
             [
              0.8888888888888888,
              "#fdca26"
             ],
             [
              1,
              "#f0f921"
             ]
            ],
            "type": "histogram2d"
           }
          ],
          "histogram2dcontour": [
           {
            "colorbar": {
             "outlinewidth": 0,
             "ticks": ""
            },
            "colorscale": [
             [
              0,
              "#0d0887"
             ],
             [
              0.1111111111111111,
              "#46039f"
             ],
             [
              0.2222222222222222,
              "#7201a8"
             ],
             [
              0.3333333333333333,
              "#9c179e"
             ],
             [
              0.4444444444444444,
              "#bd3786"
             ],
             [
              0.5555555555555556,
              "#d8576b"
             ],
             [
              0.6666666666666666,
              "#ed7953"
             ],
             [
              0.7777777777777778,
              "#fb9f3a"
             ],
             [
              0.8888888888888888,
              "#fdca26"
             ],
             [
              1,
              "#f0f921"
             ]
            ],
            "type": "histogram2dcontour"
           }
          ],
          "mesh3d": [
           {
            "colorbar": {
             "outlinewidth": 0,
             "ticks": ""
            },
            "type": "mesh3d"
           }
          ],
          "parcoords": [
           {
            "line": {
             "colorbar": {
              "outlinewidth": 0,
              "ticks": ""
             }
            },
            "type": "parcoords"
           }
          ],
          "pie": [
           {
            "automargin": true,
            "type": "pie"
           }
          ],
          "scatter": [
           {
            "marker": {
             "colorbar": {
              "outlinewidth": 0,
              "ticks": ""
             }
            },
            "type": "scatter"
           }
          ],
          "scatter3d": [
           {
            "line": {
             "colorbar": {
              "outlinewidth": 0,
              "ticks": ""
             }
            },
            "marker": {
             "colorbar": {
              "outlinewidth": 0,
              "ticks": ""
             }
            },
            "type": "scatter3d"
           }
          ],
          "scattercarpet": [
           {
            "marker": {
             "colorbar": {
              "outlinewidth": 0,
              "ticks": ""
             }
            },
            "type": "scattercarpet"
           }
          ],
          "scattergeo": [
           {
            "marker": {
             "colorbar": {
              "outlinewidth": 0,
              "ticks": ""
             }
            },
            "type": "scattergeo"
           }
          ],
          "scattergl": [
           {
            "marker": {
             "colorbar": {
              "outlinewidth": 0,
              "ticks": ""
             }
            },
            "type": "scattergl"
           }
          ],
          "scattermapbox": [
           {
            "marker": {
             "colorbar": {
              "outlinewidth": 0,
              "ticks": ""
             }
            },
            "type": "scattermapbox"
           }
          ],
          "scatterpolar": [
           {
            "marker": {
             "colorbar": {
              "outlinewidth": 0,
              "ticks": ""
             }
            },
            "type": "scatterpolar"
           }
          ],
          "scatterpolargl": [
           {
            "marker": {
             "colorbar": {
              "outlinewidth": 0,
              "ticks": ""
             }
            },
            "type": "scatterpolargl"
           }
          ],
          "scatterternary": [
           {
            "marker": {
             "colorbar": {
              "outlinewidth": 0,
              "ticks": ""
             }
            },
            "type": "scatterternary"
           }
          ],
          "surface": [
           {
            "colorbar": {
             "outlinewidth": 0,
             "ticks": ""
            },
            "colorscale": [
             [
              0,
              "#0d0887"
             ],
             [
              0.1111111111111111,
              "#46039f"
             ],
             [
              0.2222222222222222,
              "#7201a8"
             ],
             [
              0.3333333333333333,
              "#9c179e"
             ],
             [
              0.4444444444444444,
              "#bd3786"
             ],
             [
              0.5555555555555556,
              "#d8576b"
             ],
             [
              0.6666666666666666,
              "#ed7953"
             ],
             [
              0.7777777777777778,
              "#fb9f3a"
             ],
             [
              0.8888888888888888,
              "#fdca26"
             ],
             [
              1,
              "#f0f921"
             ]
            ],
            "type": "surface"
           }
          ],
          "table": [
           {
            "cells": {
             "fill": {
              "color": "#EBF0F8"
             },
             "line": {
              "color": "white"
             }
            },
            "header": {
             "fill": {
              "color": "#C8D4E3"
             },
             "line": {
              "color": "white"
             }
            },
            "type": "table"
           }
          ]
         },
         "layout": {
          "annotationdefaults": {
           "arrowcolor": "#2a3f5f",
           "arrowhead": 0,
           "arrowwidth": 1
          },
          "autotypenumbers": "strict",
          "coloraxis": {
           "colorbar": {
            "outlinewidth": 0,
            "ticks": ""
           }
          },
          "colorscale": {
           "diverging": [
            [
             0,
             "#8e0152"
            ],
            [
             0.1,
             "#c51b7d"
            ],
            [
             0.2,
             "#de77ae"
            ],
            [
             0.3,
             "#f1b6da"
            ],
            [
             0.4,
             "#fde0ef"
            ],
            [
             0.5,
             "#f7f7f7"
            ],
            [
             0.6,
             "#e6f5d0"
            ],
            [
             0.7,
             "#b8e186"
            ],
            [
             0.8,
             "#7fbc41"
            ],
            [
             0.9,
             "#4d9221"
            ],
            [
             1,
             "#276419"
            ]
           ],
           "sequential": [
            [
             0,
             "#0d0887"
            ],
            [
             0.1111111111111111,
             "#46039f"
            ],
            [
             0.2222222222222222,
             "#7201a8"
            ],
            [
             0.3333333333333333,
             "#9c179e"
            ],
            [
             0.4444444444444444,
             "#bd3786"
            ],
            [
             0.5555555555555556,
             "#d8576b"
            ],
            [
             0.6666666666666666,
             "#ed7953"
            ],
            [
             0.7777777777777778,
             "#fb9f3a"
            ],
            [
             0.8888888888888888,
             "#fdca26"
            ],
            [
             1,
             "#f0f921"
            ]
           ],
           "sequentialminus": [
            [
             0,
             "#0d0887"
            ],
            [
             0.1111111111111111,
             "#46039f"
            ],
            [
             0.2222222222222222,
             "#7201a8"
            ],
            [
             0.3333333333333333,
             "#9c179e"
            ],
            [
             0.4444444444444444,
             "#bd3786"
            ],
            [
             0.5555555555555556,
             "#d8576b"
            ],
            [
             0.6666666666666666,
             "#ed7953"
            ],
            [
             0.7777777777777778,
             "#fb9f3a"
            ],
            [
             0.8888888888888888,
             "#fdca26"
            ],
            [
             1,
             "#f0f921"
            ]
           ]
          },
          "colorway": [
           "#636efa",
           "#EF553B",
           "#00cc96",
           "#ab63fa",
           "#FFA15A",
           "#19d3f3",
           "#FF6692",
           "#B6E880",
           "#FF97FF",
           "#FECB52"
          ],
          "font": {
           "color": "#2a3f5f"
          },
          "geo": {
           "bgcolor": "white",
           "lakecolor": "white",
           "landcolor": "#E5ECF6",
           "showlakes": true,
           "showland": true,
           "subunitcolor": "white"
          },
          "hoverlabel": {
           "align": "left"
          },
          "hovermode": "closest",
          "mapbox": {
           "style": "light"
          },
          "paper_bgcolor": "white",
          "plot_bgcolor": "#E5ECF6",
          "polar": {
           "angularaxis": {
            "gridcolor": "white",
            "linecolor": "white",
            "ticks": ""
           },
           "bgcolor": "#E5ECF6",
           "radialaxis": {
            "gridcolor": "white",
            "linecolor": "white",
            "ticks": ""
           }
          },
          "scene": {
           "xaxis": {
            "backgroundcolor": "#E5ECF6",
            "gridcolor": "white",
            "gridwidth": 2,
            "linecolor": "white",
            "showbackground": true,
            "ticks": "",
            "zerolinecolor": "white"
           },
           "yaxis": {
            "backgroundcolor": "#E5ECF6",
            "gridcolor": "white",
            "gridwidth": 2,
            "linecolor": "white",
            "showbackground": true,
            "ticks": "",
            "zerolinecolor": "white"
           },
           "zaxis": {
            "backgroundcolor": "#E5ECF6",
            "gridcolor": "white",
            "gridwidth": 2,
            "linecolor": "white",
            "showbackground": true,
            "ticks": "",
            "zerolinecolor": "white"
           }
          },
          "shapedefaults": {
           "line": {
            "color": "#2a3f5f"
           }
          },
          "ternary": {
           "aaxis": {
            "gridcolor": "white",
            "linecolor": "white",
            "ticks": ""
           },
           "baxis": {
            "gridcolor": "white",
            "linecolor": "white",
            "ticks": ""
           },
           "bgcolor": "#E5ECF6",
           "caxis": {
            "gridcolor": "white",
            "linecolor": "white",
            "ticks": ""
           }
          },
          "title": {
           "x": 0.05
          },
          "xaxis": {
           "automargin": true,
           "gridcolor": "white",
           "linecolor": "white",
           "ticks": "",
           "title": {
            "standoff": 15
           },
           "zerolinecolor": "white",
           "zerolinewidth": 2
          },
          "yaxis": {
           "automargin": true,
           "gridcolor": "white",
           "linecolor": "white",
           "ticks": "",
           "title": {
            "standoff": 15
           },
           "zerolinecolor": "white",
           "zerolinewidth": 2
          }
         }
        },
        "xaxis": {
         "anchor": "y",
         "domain": [
          0,
          1
         ],
         "title": {
          "text": "kf range [m/s]"
         }
        },
        "yaxis": {
         "anchor": "x",
         "domain": [
          0,
          1
         ],
         "title": {
          "text": "Porosity range [-]"
         }
        }
       }
      },
      "text/html": [
       "<div>                            <div id=\"3c66bf39-8b4f-46ca-8a67-52160aeb6d97\" class=\"plotly-graph-div\" style=\"height:525px; width:100%;\"></div>            <script type=\"text/javascript\">                require([\"plotly\"], function(Plotly) {                    window.PLOTLYENV=window.PLOTLYENV || {};                                    if (document.getElementById(\"3c66bf39-8b4f-46ca-8a67-52160aeb6d97\")) {                    Plotly.newPlot(                        \"3c66bf39-8b4f-46ca-8a67-52160aeb6d97\",                        [{\"hovertemplate\":\"sample=Ref before<br>kf_range=%{x}<br>porosity_range=%{y}<br>depth=%{marker.size}<extra></extra>\",\"legendgroup\":\"Ref before\",\"marker\":{\"color\":\"#636efa\",\"size\":[0.12,0.15,0.18,0.27],\"sizemode\":\"area\",\"sizeref\":0.00135,\"symbol\":\"circle\"},\"mode\":\"markers\",\"name\":\"Ref before\",\"orientation\":\"v\",\"showlegend\":true,\"x\":[1.699999999999998e-05,0.0,0.0,2.3000000000000013e-07],\"xaxis\":\"x\",\"y\":[0.05307760399999997,0.05307760399999997,0.05307760399999997,0.05307760399999997],\"yaxis\":\"y\",\"type\":\"scatter\"},{\"hovertemplate\":\"sample=Ref after<br>kf_range=%{x}<br>porosity_range=%{y}<br>depth=%{marker.size}<extra></extra>\",\"legendgroup\":\"Ref after\",\"marker\":{\"color\":\"#EF553B\",\"size\":[0.12,0.15,0.18,0.21,0.24,0.27,0.33,0.39,0.45],\"sizemode\":\"area\",\"sizeref\":0.00135,\"symbol\":\"circle\"},\"mode\":\"markers\",\"name\":\"Ref after\",\"orientation\":\"v\",\"showlegend\":true,\"x\":[0.0028000000000000004,0.0005599999999999997,0.0005699999999999998,0.0005899999999999998,0.00046000000000000034,0.00018000000000000004,0.00010999999999999996,0.00013700000000000008,0.000143],\"xaxis\":\"x\",\"y\":[0.06103149599999999,0.06103149599999999,0.06103149599999999,0.06103149599999999,0.06103149599999999,0.06103149599999999,0.06103149599999999,0.06103149599999999,0.06103149599999999],\"yaxis\":\"y\",\"type\":\"scatter\"},{\"hovertemplate\":\"sample=A-1 before<br>kf_range=%{x}<br>porosity_range=%{y}<br>depth=%{marker.size}<extra></extra>\",\"legendgroup\":\"A-1 before\",\"marker\":{\"color\":\"#00cc96\",\"size\":[0.12,0.15,0.18,0.24,0.27,0.33,0.39],\"sizemode\":\"area\",\"sizeref\":0.00135,\"symbol\":\"circle\"},\"mode\":\"markers\",\"name\":\"A-1 before\",\"orientation\":\"v\",\"showlegend\":true,\"x\":[9.900000000000003e-06,2.2999999999999963e-05,0.0,1.9999999999999944e-06,9.999999999999904e-08,2.2e-07,1.7000000000000007e-06],\"xaxis\":\"x\",\"y\":[0.11641718000000004,0.11641718000000004,0.11641718000000004,0.11641718000000004,0.11641718000000004,0.11641718000000004,0.11641718000000004],\"yaxis\":\"y\",\"type\":\"scatter\"},{\"hovertemplate\":\"sample=A-1 after<br>kf_range=%{x}<br>porosity_range=%{y}<br>depth=%{marker.size}<extra></extra>\",\"legendgroup\":\"A-1 after\",\"marker\":{\"color\":\"#ab63fa\",\"size\":[0.16,0.19,0.22,0.25,0.28,0.34,0.4,0.46,0.52],\"sizemode\":\"area\",\"sizeref\":0.00135,\"symbol\":\"circle\"},\"mode\":\"markers\",\"name\":\"A-1 after\",\"orientation\":\"v\",\"showlegend\":true,\"x\":[4.9e-05,8.300000000000001e-05,0.0,0.0,3.600000000000001e-05,0.0,3.600000000000001e-05,4.7999999999999974e-05,0.0],\"xaxis\":\"x\",\"y\":[0.09273559900000003,0.09273559900000003,0.09273559900000003,0.09273559900000003,0.09273559900000003,0.09273559900000003,0.09273559900000003,0.09273559900000003,0.09273559900000003],\"yaxis\":\"y\",\"type\":\"scatter\"},{\"hovertemplate\":\"sample=A-2 before<br>kf_range=%{x}<br>porosity_range=%{y}<br>depth=%{marker.size}<extra></extra>\",\"legendgroup\":\"A-2 before\",\"marker\":{\"color\":\"#FFA15A\",\"size\":[0.19,0.22,0.25,0.28,0.31,0.34,0.4,0.46],\"sizemode\":\"area\",\"sizeref\":0.00135,\"symbol\":\"circle\"},\"mode\":\"markers\",\"name\":\"A-2 before\",\"orientation\":\"v\",\"showlegend\":true,\"x\":[1.100000000000001e-05,0.0,1.0000000000000243e-07,1.0999999999999996e-06,2.9999999999999984e-06,2.500000000000003e-06,7.519999999999999e-06,1.4999999999999992e-06],\"xaxis\":\"x\",\"y\":[0.12665362200000002,0.12665362200000002,0.12665362200000002,0.12665362200000002,0.12665362200000002,0.12665362200000002,0.12665362200000002,0.12665362200000002],\"yaxis\":\"y\",\"type\":\"scatter\"},{\"hovertemplate\":\"sample=A-2 after<br>kf_range=%{x}<br>porosity_range=%{y}<br>depth=%{marker.size}<extra></extra>\",\"legendgroup\":\"A-2 after\",\"marker\":{\"color\":\"#19d3f3\",\"size\":[0.09,0.12,0.15,0.18,0.21,0.24,0.3,0.36],\"sizemode\":\"area\",\"sizeref\":0.00135,\"symbol\":\"circle\"},\"mode\":\"markers\",\"name\":\"A-2 after\",\"orientation\":\"v\",\"showlegend\":true,\"x\":[9.000000000000002e-05,1.200000000000002e-05,1.61e-05,1.17e-05,4.699999999999999e-06,0.0,4.300000000000003e-06,1.0700000000000008e-06],\"xaxis\":\"x\",\"y\":[0.11137972200000001,0.11137972200000001,0.11137972200000001,0.11137972200000001,0.11137972200000001,0.11137972200000001,0.11137972200000001,0.11137972200000001],\"yaxis\":\"y\",\"type\":\"scatter\"},{\"hovertemplate\":\"sample=B-1 before<br>kf_range=%{x}<br>porosity_range=%{y}<br>depth=%{marker.size}<extra></extra>\",\"legendgroup\":\"B-1 before\",\"marker\":{\"color\":\"#FF6692\",\"size\":[0.12,0.15,0.18,0.21,0.24,0.27,0.33,0.39],\"sizemode\":\"area\",\"sizeref\":0.00135,\"symbol\":\"circle\"},\"mode\":\"markers\",\"name\":\"B-1 before\",\"orientation\":\"v\",\"showlegend\":true,\"x\":[0.0,0.00022000000000000014,0.00027999999999999987,0.0,0.00017,1.0000000000000026e-05,0.00019000000000000006,6.000000000000005e-05],\"xaxis\":\"x\",\"y\":[0.046602861999999995,0.046602861999999995,0.046602861999999995,0.046602861999999995,0.046602861999999995,0.046602861999999995,0.046602861999999995,0.046602861999999995],\"yaxis\":\"y\",\"type\":\"scatter\"},{\"hovertemplate\":\"sample=B-1 after<br>kf_range=%{x}<br>porosity_range=%{y}<br>depth=%{marker.size}<extra></extra>\",\"legendgroup\":\"B-1 after\",\"marker\":{\"color\":\"#B6E880\",\"size\":[0.12,0.15,0.18,0.21,0.24,0.27,0.33,0.39],\"sizemode\":\"area\",\"sizeref\":0.00135,\"symbol\":\"circle\"},\"mode\":\"markers\",\"name\":\"B-1 after\",\"orientation\":\"v\",\"showlegend\":true,\"x\":[0.0008700000000000001,0.0013799999999999993,0.0003500000000000005,0.00035999999999999964,0.0002899999999999999,0.0,0.00021500000000000002,1.3999999999999907e-05],\"xaxis\":\"x\",\"y\":[0.04019597499999997,0.04019597499999997,0.04019597499999997,0.04019597499999997,0.04019597499999997,0.04019597499999997,0.04019597499999997,0.04019597499999997],\"yaxis\":\"y\",\"type\":\"scatter\"},{\"hovertemplate\":\"sample=B-2 before<br>kf_range=%{x}<br>porosity_range=%{y}<br>depth=%{marker.size}<extra></extra>\",\"legendgroup\":\"B-2 before\",\"marker\":{\"color\":\"#FF97FF\",\"size\":[0.12,0.15,0.18,0.21,0.24,0.27,0.33,0.39,0.45,0.51],\"sizemode\":\"area\",\"sizeref\":0.00135,\"symbol\":\"circle\"},\"mode\":\"markers\",\"name\":\"B-2 before\",\"orientation\":\"v\",\"showlegend\":true,\"x\":[0.0,0.0013299999999999996,0.0013899999999999997,0.0005399999999999997,0.0002999999999999999,0.0003899999999999997,0.0007499999999999998,0.0,0.0,0.0001250000000000001],\"xaxis\":\"x\",\"y\":[0.053894162999999995,0.053894162999999995,0.053894162999999995,0.053894162999999995,0.053894162999999995,0.053894162999999995,0.053894162999999995,0.053894162999999995,0.053894162999999995,0.053894162999999995],\"yaxis\":\"y\",\"type\":\"scatter\"},{\"hovertemplate\":\"sample=B-2 after<br>kf_range=%{x}<br>porosity_range=%{y}<br>depth=%{marker.size}<extra></extra>\",\"legendgroup\":\"B-2 after\",\"marker\":{\"color\":\"#FECB52\",\"size\":[0.15,0.18,0.21,0.24,0.27,0.3,0.36,0.42,0.48,0.54],\"sizemode\":\"area\",\"sizeref\":0.00135,\"symbol\":\"circle\"},\"mode\":\"markers\",\"name\":\"B-2 after\",\"orientation\":\"v\",\"showlegend\":true,\"x\":[0.00023000000000000017,1.000000000000046e-05,0.00102,1.000000000000046e-05,0.00010999999999999985,0.00082,0.0006300000000000004,0.00019000000000000006,2.9999999999999862e-05,0.00010400000000000003],\"xaxis\":\"x\",\"y\":[0.05856665,0.05856665,0.05856665,0.05856665,0.05856665,0.05856665,0.05856665,0.05856665,0.05856665,0.05856665],\"yaxis\":\"y\",\"type\":\"scatter\"}],                        {\"template\":{\"data\":{\"bar\":[{\"error_x\":{\"color\":\"#2a3f5f\"},\"error_y\":{\"color\":\"#2a3f5f\"},\"marker\":{\"line\":{\"color\":\"#E5ECF6\",\"width\":0.5},\"pattern\":{\"fillmode\":\"overlay\",\"size\":10,\"solidity\":0.2}},\"type\":\"bar\"}],\"barpolar\":[{\"marker\":{\"line\":{\"color\":\"#E5ECF6\",\"width\":0.5},\"pattern\":{\"fillmode\":\"overlay\",\"size\":10,\"solidity\":0.2}},\"type\":\"barpolar\"}],\"carpet\":[{\"aaxis\":{\"endlinecolor\":\"#2a3f5f\",\"gridcolor\":\"white\",\"linecolor\":\"white\",\"minorgridcolor\":\"white\",\"startlinecolor\":\"#2a3f5f\"},\"baxis\":{\"endlinecolor\":\"#2a3f5f\",\"gridcolor\":\"white\",\"linecolor\":\"white\",\"minorgridcolor\":\"white\",\"startlinecolor\":\"#2a3f5f\"},\"type\":\"carpet\"}],\"choropleth\":[{\"colorbar\":{\"outlinewidth\":0,\"ticks\":\"\"},\"type\":\"choropleth\"}],\"contour\":[{\"colorbar\":{\"outlinewidth\":0,\"ticks\":\"\"},\"colorscale\":[[0.0,\"#0d0887\"],[0.1111111111111111,\"#46039f\"],[0.2222222222222222,\"#7201a8\"],[0.3333333333333333,\"#9c179e\"],[0.4444444444444444,\"#bd3786\"],[0.5555555555555556,\"#d8576b\"],[0.6666666666666666,\"#ed7953\"],[0.7777777777777778,\"#fb9f3a\"],[0.8888888888888888,\"#fdca26\"],[1.0,\"#f0f921\"]],\"type\":\"contour\"}],\"contourcarpet\":[{\"colorbar\":{\"outlinewidth\":0,\"ticks\":\"\"},\"type\":\"contourcarpet\"}],\"heatmap\":[{\"colorbar\":{\"outlinewidth\":0,\"ticks\":\"\"},\"colorscale\":[[0.0,\"#0d0887\"],[0.1111111111111111,\"#46039f\"],[0.2222222222222222,\"#7201a8\"],[0.3333333333333333,\"#9c179e\"],[0.4444444444444444,\"#bd3786\"],[0.5555555555555556,\"#d8576b\"],[0.6666666666666666,\"#ed7953\"],[0.7777777777777778,\"#fb9f3a\"],[0.8888888888888888,\"#fdca26\"],[1.0,\"#f0f921\"]],\"type\":\"heatmap\"}],\"heatmapgl\":[{\"colorbar\":{\"outlinewidth\":0,\"ticks\":\"\"},\"colorscale\":[[0.0,\"#0d0887\"],[0.1111111111111111,\"#46039f\"],[0.2222222222222222,\"#7201a8\"],[0.3333333333333333,\"#9c179e\"],[0.4444444444444444,\"#bd3786\"],[0.5555555555555556,\"#d8576b\"],[0.6666666666666666,\"#ed7953\"],[0.7777777777777778,\"#fb9f3a\"],[0.8888888888888888,\"#fdca26\"],[1.0,\"#f0f921\"]],\"type\":\"heatmapgl\"}],\"histogram\":[{\"marker\":{\"pattern\":{\"fillmode\":\"overlay\",\"size\":10,\"solidity\":0.2}},\"type\":\"histogram\"}],\"histogram2d\":[{\"colorbar\":{\"outlinewidth\":0,\"ticks\":\"\"},\"colorscale\":[[0.0,\"#0d0887\"],[0.1111111111111111,\"#46039f\"],[0.2222222222222222,\"#7201a8\"],[0.3333333333333333,\"#9c179e\"],[0.4444444444444444,\"#bd3786\"],[0.5555555555555556,\"#d8576b\"],[0.6666666666666666,\"#ed7953\"],[0.7777777777777778,\"#fb9f3a\"],[0.8888888888888888,\"#fdca26\"],[1.0,\"#f0f921\"]],\"type\":\"histogram2d\"}],\"histogram2dcontour\":[{\"colorbar\":{\"outlinewidth\":0,\"ticks\":\"\"},\"colorscale\":[[0.0,\"#0d0887\"],[0.1111111111111111,\"#46039f\"],[0.2222222222222222,\"#7201a8\"],[0.3333333333333333,\"#9c179e\"],[0.4444444444444444,\"#bd3786\"],[0.5555555555555556,\"#d8576b\"],[0.6666666666666666,\"#ed7953\"],[0.7777777777777778,\"#fb9f3a\"],[0.8888888888888888,\"#fdca26\"],[1.0,\"#f0f921\"]],\"type\":\"histogram2dcontour\"}],\"mesh3d\":[{\"colorbar\":{\"outlinewidth\":0,\"ticks\":\"\"},\"type\":\"mesh3d\"}],\"parcoords\":[{\"line\":{\"colorbar\":{\"outlinewidth\":0,\"ticks\":\"\"}},\"type\":\"parcoords\"}],\"pie\":[{\"automargin\":true,\"type\":\"pie\"}],\"scatter\":[{\"marker\":{\"colorbar\":{\"outlinewidth\":0,\"ticks\":\"\"}},\"type\":\"scatter\"}],\"scatter3d\":[{\"line\":{\"colorbar\":{\"outlinewidth\":0,\"ticks\":\"\"}},\"marker\":{\"colorbar\":{\"outlinewidth\":0,\"ticks\":\"\"}},\"type\":\"scatter3d\"}],\"scattercarpet\":[{\"marker\":{\"colorbar\":{\"outlinewidth\":0,\"ticks\":\"\"}},\"type\":\"scattercarpet\"}],\"scattergeo\":[{\"marker\":{\"colorbar\":{\"outlinewidth\":0,\"ticks\":\"\"}},\"type\":\"scattergeo\"}],\"scattergl\":[{\"marker\":{\"colorbar\":{\"outlinewidth\":0,\"ticks\":\"\"}},\"type\":\"scattergl\"}],\"scattermapbox\":[{\"marker\":{\"colorbar\":{\"outlinewidth\":0,\"ticks\":\"\"}},\"type\":\"scattermapbox\"}],\"scatterpolar\":[{\"marker\":{\"colorbar\":{\"outlinewidth\":0,\"ticks\":\"\"}},\"type\":\"scatterpolar\"}],\"scatterpolargl\":[{\"marker\":{\"colorbar\":{\"outlinewidth\":0,\"ticks\":\"\"}},\"type\":\"scatterpolargl\"}],\"scatterternary\":[{\"marker\":{\"colorbar\":{\"outlinewidth\":0,\"ticks\":\"\"}},\"type\":\"scatterternary\"}],\"surface\":[{\"colorbar\":{\"outlinewidth\":0,\"ticks\":\"\"},\"colorscale\":[[0.0,\"#0d0887\"],[0.1111111111111111,\"#46039f\"],[0.2222222222222222,\"#7201a8\"],[0.3333333333333333,\"#9c179e\"],[0.4444444444444444,\"#bd3786\"],[0.5555555555555556,\"#d8576b\"],[0.6666666666666666,\"#ed7953\"],[0.7777777777777778,\"#fb9f3a\"],[0.8888888888888888,\"#fdca26\"],[1.0,\"#f0f921\"]],\"type\":\"surface\"}],\"table\":[{\"cells\":{\"fill\":{\"color\":\"#EBF0F8\"},\"line\":{\"color\":\"white\"}},\"header\":{\"fill\":{\"color\":\"#C8D4E3\"},\"line\":{\"color\":\"white\"}},\"type\":\"table\"}]},\"layout\":{\"annotationdefaults\":{\"arrowcolor\":\"#2a3f5f\",\"arrowhead\":0,\"arrowwidth\":1},\"autotypenumbers\":\"strict\",\"coloraxis\":{\"colorbar\":{\"outlinewidth\":0,\"ticks\":\"\"}},\"colorscale\":{\"diverging\":[[0,\"#8e0152\"],[0.1,\"#c51b7d\"],[0.2,\"#de77ae\"],[0.3,\"#f1b6da\"],[0.4,\"#fde0ef\"],[0.5,\"#f7f7f7\"],[0.6,\"#e6f5d0\"],[0.7,\"#b8e186\"],[0.8,\"#7fbc41\"],[0.9,\"#4d9221\"],[1,\"#276419\"]],\"sequential\":[[0.0,\"#0d0887\"],[0.1111111111111111,\"#46039f\"],[0.2222222222222222,\"#7201a8\"],[0.3333333333333333,\"#9c179e\"],[0.4444444444444444,\"#bd3786\"],[0.5555555555555556,\"#d8576b\"],[0.6666666666666666,\"#ed7953\"],[0.7777777777777778,\"#fb9f3a\"],[0.8888888888888888,\"#fdca26\"],[1.0,\"#f0f921\"]],\"sequentialminus\":[[0.0,\"#0d0887\"],[0.1111111111111111,\"#46039f\"],[0.2222222222222222,\"#7201a8\"],[0.3333333333333333,\"#9c179e\"],[0.4444444444444444,\"#bd3786\"],[0.5555555555555556,\"#d8576b\"],[0.6666666666666666,\"#ed7953\"],[0.7777777777777778,\"#fb9f3a\"],[0.8888888888888888,\"#fdca26\"],[1.0,\"#f0f921\"]]},\"colorway\":[\"#636efa\",\"#EF553B\",\"#00cc96\",\"#ab63fa\",\"#FFA15A\",\"#19d3f3\",\"#FF6692\",\"#B6E880\",\"#FF97FF\",\"#FECB52\"],\"font\":{\"color\":\"#2a3f5f\"},\"geo\":{\"bgcolor\":\"white\",\"lakecolor\":\"white\",\"landcolor\":\"#E5ECF6\",\"showlakes\":true,\"showland\":true,\"subunitcolor\":\"white\"},\"hoverlabel\":{\"align\":\"left\"},\"hovermode\":\"closest\",\"mapbox\":{\"style\":\"light\"},\"paper_bgcolor\":\"white\",\"plot_bgcolor\":\"#E5ECF6\",\"polar\":{\"angularaxis\":{\"gridcolor\":\"white\",\"linecolor\":\"white\",\"ticks\":\"\"},\"bgcolor\":\"#E5ECF6\",\"radialaxis\":{\"gridcolor\":\"white\",\"linecolor\":\"white\",\"ticks\":\"\"}},\"scene\":{\"xaxis\":{\"backgroundcolor\":\"#E5ECF6\",\"gridcolor\":\"white\",\"gridwidth\":2,\"linecolor\":\"white\",\"showbackground\":true,\"ticks\":\"\",\"zerolinecolor\":\"white\"},\"yaxis\":{\"backgroundcolor\":\"#E5ECF6\",\"gridcolor\":\"white\",\"gridwidth\":2,\"linecolor\":\"white\",\"showbackground\":true,\"ticks\":\"\",\"zerolinecolor\":\"white\"},\"zaxis\":{\"backgroundcolor\":\"#E5ECF6\",\"gridcolor\":\"white\",\"gridwidth\":2,\"linecolor\":\"white\",\"showbackground\":true,\"ticks\":\"\",\"zerolinecolor\":\"white\"}},\"shapedefaults\":{\"line\":{\"color\":\"#2a3f5f\"}},\"ternary\":{\"aaxis\":{\"gridcolor\":\"white\",\"linecolor\":\"white\",\"ticks\":\"\"},\"baxis\":{\"gridcolor\":\"white\",\"linecolor\":\"white\",\"ticks\":\"\"},\"bgcolor\":\"#E5ECF6\",\"caxis\":{\"gridcolor\":\"white\",\"linecolor\":\"white\",\"ticks\":\"\"}},\"title\":{\"x\":0.05},\"xaxis\":{\"automargin\":true,\"gridcolor\":\"white\",\"linecolor\":\"white\",\"ticks\":\"\",\"title\":{\"standoff\":15},\"zerolinecolor\":\"white\",\"zerolinewidth\":2},\"yaxis\":{\"automargin\":true,\"gridcolor\":\"white\",\"linecolor\":\"white\",\"ticks\":\"\",\"title\":{\"standoff\":15},\"zerolinecolor\":\"white\",\"zerolinewidth\":2}}},\"xaxis\":{\"anchor\":\"y\",\"domain\":[0.0,1.0],\"title\":{\"text\":\"kf range [m/s]\"}},\"yaxis\":{\"anchor\":\"x\",\"domain\":[0.0,1.0],\"title\":{\"text\":\"Porosity range [-]\"}},\"legend\":{\"title\":{\"text\":\"sample\"},\"tracegroupgap\":0,\"itemsizing\":\"constant\"},\"margin\":{\"t\":60}},                        {\"responsive\": true}                    ).then(function(){\n",
       "                            \n",
       "var gd = document.getElementById('3c66bf39-8b4f-46ca-8a67-52160aeb6d97');\n",
       "var x = new MutationObserver(function (mutations, observer) {{\n",
       "        var display = window.getComputedStyle(gd).display;\n",
       "        if (!display || display === 'none') {{\n",
       "            console.log([gd, 'removed!']);\n",
       "            Plotly.purge(gd);\n",
       "            observer.disconnect();\n",
       "        }}\n",
       "}});\n",
       "\n",
       "// Listen for the removal of the full notebook cells\n",
       "var notebookContainer = gd.closest('#notebook-container');\n",
       "if (notebookContainer) {{\n",
       "    x.observe(notebookContainer, {childList: true});\n",
       "}}\n",
       "\n",
       "// Listen for the clearing of the current output cell\n",
       "var outputEl = gd.closest('.output');\n",
       "if (outputEl) {{\n",
       "    x.observe(outputEl, {childList: true});\n",
       "}}\n",
       "\n",
       "                        })                };                });            </script>        </div>"
      ]
     },
     "metadata": {},
     "output_type": "display_data"
    }
   ],
   "source": [
    "fig = px.scatter(df, \n",
    "           x='kf_range',\n",
    "           y='porosity_range', \n",
    "           color='sample', \n",
    "           size='depth')\n",
    "\n",
    "fig.update_layout(yaxis_title='Porosity range [-]',\n",
    "                  xaxis_title='kf range [m/s]')"
   ]
  },
  {
   "cell_type": "code",
   "execution_count": null,
   "metadata": {},
   "outputs": [],
   "source": []
  }
 ],
 "metadata": {
  "kernelspec": {
   "display_name": "Python 3 (ipykernel)",
   "language": "python",
   "name": "python3"
  },
  "language_info": {
   "codemirror_mode": {
    "name": "ipython",
    "version": 3
   },
   "file_extension": ".py",
   "mimetype": "text/x-python",
   "name": "python",
   "nbconvert_exporter": "python",
   "pygments_lexer": "ipython3",
   "version": "3.9.7"
  }
 },
 "nbformat": 4,
 "nbformat_minor": 4
}
