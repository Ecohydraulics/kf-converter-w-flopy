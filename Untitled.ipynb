{
 "cells": [
  {
   "cell_type": "code",
   "execution_count": 27,
   "metadata": {},
   "outputs": [
    {
     "data": {
      "text/plain": [
       "{'Ref before': 330.0,\n",
       " 'Ref after': 329.97,\n",
       " 'A-1 before': 329.1,\n",
       " 'A-1 after': 329.3,\n",
       " 'A-2 before': 329.15,\n",
       " 'A-2 after': 329.12,\n",
       " 'B-1 before': 328.85,\n",
       " 'B-1 after': 328.94,\n",
       " 'B-2 before': 328.91,\n",
       " 'B-2 after': 328.89}"
      ]
     },
     "execution_count": 27,
     "metadata": {},
     "output_type": "execute_result"
    }
   ],
   "source": [
    "from config import *\n",
    "\n",
    "# Read csv as df\n",
    "df_kfs = pd.read_csv('computed_kfs.csv', delimiter=',', index_col=0)\n",
    "\n",
    "z = pd.read_excel('meas-z.xlsx', engine='openpyxl', index_col=0, skiprows=[1]).squeeze().to_dict()\n",
    "z\n"
   ]
  },
  {
   "cell_type": "code",
   "execution_count": null,
   "metadata": {},
   "outputs": [],
   "source": []
  },
  {
   "cell_type": "code",
   "execution_count": null,
   "metadata": {},
   "outputs": [],
   "source": []
  }
 ],
 "metadata": {
  "kernelspec": {
   "display_name": "Python 3 (ipykernel)",
   "language": "python",
   "name": "python3"
  },
  "language_info": {
   "codemirror_mode": {
    "name": "ipython",
    "version": 3
   },
   "file_extension": ".py",
   "mimetype": "text/x-python",
   "name": "python",
   "nbconvert_exporter": "python",
   "pygments_lexer": "ipython3",
   "version": "3.9.7"
  }
 },
 "nbformat": 4,
 "nbformat_minor": 4
}
